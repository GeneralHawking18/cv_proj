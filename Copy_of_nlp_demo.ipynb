{
  "cells": [
    {
      "cell_type": "markdown",
      "metadata": {
        "id": "JbBFRZczHnmk"
      },
      "source": [
        "# Prepare the running enviroment"
      ]
    },
    {
      "cell_type": "code",
      "execution_count": 69,
      "metadata": {
        "colab": {
          "base_uri": "https://localhost:8080/"
        },
        "id": "chUz0BE4dy4V",
        "outputId": "d1e825fd-ff65-4183-8fcf-0ed0592ebc90"
      },
      "outputs": [
        {
          "output_type": "stream",
          "name": "stdout",
          "text": [
            "Drive already mounted at /content/drive; to attempt to forcibly remount, call drive.mount(\"/content/drive\", force_remount=True).\n"
          ]
        }
      ],
      "source": [
        "from google.colab import drive\n",
        "drive.mount('/content/drive')"
      ]
    },
    {
      "cell_type": "code",
      "execution_count": 70,
      "metadata": {
        "colab": {
          "base_uri": "https://localhost:8080/"
        },
        "id": "KuERH9acBP8I",
        "outputId": "30387a8c-c5ee-44f5-8403-c121811437e5"
      },
      "outputs": [
        {
          "output_type": "stream",
          "name": "stdout",
          "text": [
            "/content/drive/MyDrive/im2txt\n",
            "fatal: destination path 'nlp_proj' already exists and is not an empty directory.\n",
            "/content/drive/MyDrive/im2txt/nlp_proj\n"
          ]
        }
      ],
      "source": [
        "%cd /content/drive/MyDrive/im2txt\n",
        "\n",
        "USER = \"GeneralHawking18\"\n",
        "REPO = 'nlp_proj'\n",
        "BRANCH = 'topic/demo'\n",
        "CLONE_URL = f\"https://github.com/{USER}/{REPO}.git\"\n",
        "get_ipython().system(f\"git clone --branch {BRANCH} {CLONE_URL}\")\n",
        "\n",
        "%cd /content/drive/MyDrive/im2txt/nlp_proj\n"
      ]
    },
    {
      "cell_type": "code",
      "source": [
        "%cd /content/drive/MyDrive/im2txt/nlp_proj\n",
        "!pip install -r requirements.txt\n",
        "!pip install Ipython --upgrade\n",
        "import nltk\n",
        "import os\n",
        "nltk.download('wordnet')\n",
        "nltk.download('punkt')\n",
        "nltk.download('averaged_perceptron_tagger')\n",
        "nltk.download('sentiwordnet')\n",
        "nltk.download('universal_tagset')\n",
        "\n",
        "!pip install flask --quiet\n",
        "!pip install flask-ngrok --quiet\n",
        "# install ngrok linux version using the following command or you can get the\n",
        "# latest version from its official website- https://dashboard.ngrok.com/get-started/setup\n",
        "if not os.path.isfile(\"/content/ngrok-stable-linux-amd64.tgz\"):\n",
        "  !wget -P /content/ https://bin.equinox.io/c/4VmDzA7iaHb/ngrok-stable-linux-amd64.tgz\n",
        "\n",
        "\n",
        "# extract the downloaded file using the following command\n",
        "!tar -xvf /content/ngrok-stable-linux-amd64.tgz\n",
        "# paste your AuthToken here and execute this command\n",
        "!./ngrok authtoken 2SKzeGEvuO8zabsgzKqwCQRZinc_3vzWUp5Ek9uU3PP9Fuz3G\n",
        "\n",
        "\n",
        "# add path to your static and template folder for pictures and html/css/js here. see flask folder structure.\n",
        "TEMPLATE = '/content/drive/MyDrive/Colab Notebooks/VnCv2023/templates'\n",
        "STATIC = '/content/drive/MyDrive/Colab Notebooks/VnCv2023/static'\n",
        "\n",
        "from flask import Flask, render_template, request\n",
        "from flask_ngrok import run_with_ngrok\n",
        "app = Flask(__name__, template_folder=TEMPLATE, static_folder=STATIC)\n",
        "run_with_ngrok(app)\n",
        "\n",
        "@app.route(\"/\")\n",
        "def home():\n",
        "    return render_template(\"home.html\")\n"
      ],
      "metadata": {
        "id": "Dsds8EfaaHat",
        "colab": {
          "base_uri": "https://localhost:8080/"
        },
        "outputId": "3247d2eb-c807-42e4-e675-86971c300207"
      },
      "execution_count": 71,
      "outputs": [
        {
          "output_type": "stream",
          "name": "stdout",
          "text": [
            "/content/drive/MyDrive/im2txt/nlp_proj\n",
            "Requirement already satisfied: colorlog in /usr/local/lib/python3.10/dist-packages (from -r requirements.txt (line 1)) (6.7.0)\n",
            "Requirement already satisfied: nltk in /usr/local/lib/python3.10/dist-packages (from -r requirements.txt (line 2)) (3.8.1)\n",
            "Requirement already satisfied: transformers==4.30.0 in /usr/local/lib/python3.10/dist-packages (from -r requirements.txt (line 3)) (4.30.0)\n",
            "Requirement already satisfied: torch in /usr/local/lib/python3.10/dist-packages (from -r requirements.txt (line 4)) (2.0.1+cu118)\n",
            "Requirement already satisfied: torchvision in /usr/local/lib/python3.10/dist-packages (from -r requirements.txt (line 5)) (0.15.2+cu118)\n",
            "Requirement already satisfied: salesforce-lavis in /usr/local/lib/python3.10/dist-packages (from -r requirements.txt (line 6)) (1.0.0)\n",
            "Requirement already satisfied: labml-nn in /usr/local/lib/python3.10/dist-packages (from -r requirements.txt (line 7)) (0.4.133)\n",
            "Requirement already satisfied: filelock in /usr/local/lib/python3.10/dist-packages (from transformers==4.30.0->-r requirements.txt (line 3)) (3.12.2)\n",
            "Requirement already satisfied: huggingface-hub<1.0,>=0.14.1 in /usr/local/lib/python3.10/dist-packages (from transformers==4.30.0->-r requirements.txt (line 3)) (0.16.4)\n",
            "Requirement already satisfied: numpy>=1.17 in /usr/local/lib/python3.10/dist-packages (from transformers==4.30.0->-r requirements.txt (line 3)) (1.22.4)\n",
            "Requirement already satisfied: packaging>=20.0 in /usr/local/lib/python3.10/dist-packages (from transformers==4.30.0->-r requirements.txt (line 3)) (23.1)\n",
            "Requirement already satisfied: pyyaml>=5.1 in /usr/local/lib/python3.10/dist-packages (from transformers==4.30.0->-r requirements.txt (line 3)) (6.0)\n",
            "Requirement already satisfied: regex!=2019.12.17 in /usr/local/lib/python3.10/dist-packages (from transformers==4.30.0->-r requirements.txt (line 3)) (2022.10.31)\n",
            "Requirement already satisfied: requests in /usr/local/lib/python3.10/dist-packages (from transformers==4.30.0->-r requirements.txt (line 3)) (2.27.1)\n",
            "Requirement already satisfied: tokenizers!=0.11.3,<0.14,>=0.11.1 in /usr/local/lib/python3.10/dist-packages (from transformers==4.30.0->-r requirements.txt (line 3)) (0.13.3)\n",
            "Requirement already satisfied: safetensors>=0.3.1 in /usr/local/lib/python3.10/dist-packages (from transformers==4.30.0->-r requirements.txt (line 3)) (0.3.1)\n",
            "Requirement already satisfied: tqdm>=4.27 in /usr/local/lib/python3.10/dist-packages (from transformers==4.30.0->-r requirements.txt (line 3)) (4.65.0)\n",
            "Requirement already satisfied: click in /usr/local/lib/python3.10/dist-packages (from nltk->-r requirements.txt (line 2)) (8.1.4)\n",
            "Requirement already satisfied: joblib in /usr/local/lib/python3.10/dist-packages (from nltk->-r requirements.txt (line 2)) (1.3.1)\n",
            "Requirement already satisfied: typing-extensions in /usr/local/lib/python3.10/dist-packages (from torch->-r requirements.txt (line 4)) (4.7.1)\n",
            "Requirement already satisfied: sympy in /usr/local/lib/python3.10/dist-packages (from torch->-r requirements.txt (line 4)) (1.11.1)\n",
            "Requirement already satisfied: networkx in /usr/local/lib/python3.10/dist-packages (from torch->-r requirements.txt (line 4)) (3.1)\n",
            "Requirement already satisfied: jinja2 in /usr/local/lib/python3.10/dist-packages (from torch->-r requirements.txt (line 4)) (3.1.2)\n",
            "Requirement already satisfied: triton==2.0.0 in /usr/local/lib/python3.10/dist-packages (from torch->-r requirements.txt (line 4)) (2.0.0)\n",
            "Requirement already satisfied: cmake in /usr/local/lib/python3.10/dist-packages (from triton==2.0.0->torch->-r requirements.txt (line 4)) (3.25.2)\n",
            "Requirement already satisfied: lit in /usr/local/lib/python3.10/dist-packages (from triton==2.0.0->torch->-r requirements.txt (line 4)) (16.0.6)\n",
            "Requirement already satisfied: pillow!=8.3.*,>=5.3.0 in /usr/local/lib/python3.10/dist-packages (from torchvision->-r requirements.txt (line 5)) (8.4.0)\n",
            "Requirement already satisfied: contexttimer in /usr/local/lib/python3.10/dist-packages (from salesforce-lavis->-r requirements.txt (line 6)) (0.3.3)\n",
            "Requirement already satisfied: decord in /usr/local/lib/python3.10/dist-packages (from salesforce-lavis->-r requirements.txt (line 6)) (0.6.0)\n",
            "Requirement already satisfied: einops>=0.4.1 in /usr/local/lib/python3.10/dist-packages (from salesforce-lavis->-r requirements.txt (line 6)) (0.6.1)\n",
            "Requirement already satisfied: fairscale==0.4.4 in /usr/local/lib/python3.10/dist-packages (from salesforce-lavis->-r requirements.txt (line 6)) (0.4.4)\n",
            "Requirement already satisfied: ftfy in /usr/local/lib/python3.10/dist-packages (from salesforce-lavis->-r requirements.txt (line 6)) (6.1.1)\n",
            "Requirement already satisfied: iopath in /usr/local/lib/python3.10/dist-packages (from salesforce-lavis->-r requirements.txt (line 6)) (0.1.10)\n",
            "Requirement already satisfied: ipython in /usr/local/lib/python3.10/dist-packages (from salesforce-lavis->-r requirements.txt (line 6)) (8.14.0)\n",
            "Requirement already satisfied: omegaconf in /usr/local/lib/python3.10/dist-packages (from salesforce-lavis->-r requirements.txt (line 6)) (2.3.0)\n",
            "Requirement already satisfied: opencv-python-headless==4.5.5.64 in /usr/local/lib/python3.10/dist-packages (from salesforce-lavis->-r requirements.txt (line 6)) (4.5.5.64)\n",
            "Requirement already satisfied: opendatasets in /usr/local/lib/python3.10/dist-packages (from salesforce-lavis->-r requirements.txt (line 6)) (0.1.22)\n",
            "Requirement already satisfied: pandas in /usr/local/lib/python3.10/dist-packages (from salesforce-lavis->-r requirements.txt (line 6)) (1.5.3)\n",
            "Requirement already satisfied: plotly in /usr/local/lib/python3.10/dist-packages (from salesforce-lavis->-r requirements.txt (line 6)) (5.13.1)\n",
            "Requirement already satisfied: pre-commit in /usr/local/lib/python3.10/dist-packages (from salesforce-lavis->-r requirements.txt (line 6)) (3.3.3)\n",
            "Requirement already satisfied: pycocoevalcap in /usr/local/lib/python3.10/dist-packages (from salesforce-lavis->-r requirements.txt (line 6)) (1.2)\n",
            "Requirement already satisfied: pycocotools in /usr/local/lib/python3.10/dist-packages (from salesforce-lavis->-r requirements.txt (line 6)) (2.0.6)\n",
            "Requirement already satisfied: python-magic in /usr/local/lib/python3.10/dist-packages (from salesforce-lavis->-r requirements.txt (line 6)) (0.4.27)\n",
            "Requirement already satisfied: scikit-image in /usr/local/lib/python3.10/dist-packages (from salesforce-lavis->-r requirements.txt (line 6)) (0.19.3)\n",
            "Requirement already satisfied: sentencepiece in /usr/local/lib/python3.10/dist-packages (from salesforce-lavis->-r requirements.txt (line 6)) (0.1.99)\n",
            "Requirement already satisfied: spacy in /usr/local/lib/python3.10/dist-packages (from salesforce-lavis->-r requirements.txt (line 6)) (3.5.4)\n",
            "Requirement already satisfied: streamlit in /usr/local/lib/python3.10/dist-packages (from salesforce-lavis->-r requirements.txt (line 6)) (1.24.1)\n",
            "Requirement already satisfied: timm==0.4.12 in /usr/local/lib/python3.10/dist-packages (from salesforce-lavis->-r requirements.txt (line 6)) (0.4.12)\n",
            "Requirement already satisfied: webdataset in /usr/local/lib/python3.10/dist-packages (from salesforce-lavis->-r requirements.txt (line 6)) (0.2.48)\n",
            "Requirement already satisfied: wheel in /usr/local/lib/python3.10/dist-packages (from salesforce-lavis->-r requirements.txt (line 6)) (0.40.0)\n",
            "Requirement already satisfied: labml>=0.4.158 in /usr/local/lib/python3.10/dist-packages (from labml-nn->-r requirements.txt (line 7)) (0.4.165)\n",
            "Requirement already satisfied: labml-helpers>=0.4.89 in /usr/local/lib/python3.10/dist-packages (from labml-nn->-r requirements.txt (line 7)) (0.4.89)\n",
            "Requirement already satisfied: torchtext in /usr/local/lib/python3.10/dist-packages (from labml-nn->-r requirements.txt (line 7)) (0.15.2)\n",
            "Requirement already satisfied: fsspec in /usr/local/lib/python3.10/dist-packages (from huggingface-hub<1.0,>=0.14.1->transformers==4.30.0->-r requirements.txt (line 3)) (2023.6.0)\n",
            "Requirement already satisfied: gitpython in /usr/local/lib/python3.10/dist-packages (from labml>=0.4.158->labml-nn->-r requirements.txt (line 7)) (3.1.32)\n",
            "Requirement already satisfied: wcwidth>=0.2.5 in /usr/local/lib/python3.10/dist-packages (from ftfy->salesforce-lavis->-r requirements.txt (line 6)) (0.2.6)\n",
            "Requirement already satisfied: portalocker in /usr/local/lib/python3.10/dist-packages (from iopath->salesforce-lavis->-r requirements.txt (line 6)) (2.7.0)\n",
            "Requirement already satisfied: backcall in /usr/local/lib/python3.10/dist-packages (from ipython->salesforce-lavis->-r requirements.txt (line 6)) (0.2.0)\n",
            "Requirement already satisfied: decorator in /usr/local/lib/python3.10/dist-packages (from ipython->salesforce-lavis->-r requirements.txt (line 6)) (4.4.2)\n",
            "Requirement already satisfied: jedi>=0.16 in /usr/local/lib/python3.10/dist-packages (from ipython->salesforce-lavis->-r requirements.txt (line 6)) (0.18.2)\n",
            "Requirement already satisfied: matplotlib-inline in /usr/local/lib/python3.10/dist-packages (from ipython->salesforce-lavis->-r requirements.txt (line 6)) (0.1.6)\n",
            "Requirement already satisfied: pickleshare in /usr/local/lib/python3.10/dist-packages (from ipython->salesforce-lavis->-r requirements.txt (line 6)) (0.7.5)\n",
            "Requirement already satisfied: prompt-toolkit!=3.0.37,<3.1.0,>=3.0.30 in /usr/local/lib/python3.10/dist-packages (from ipython->salesforce-lavis->-r requirements.txt (line 6)) (3.0.39)\n",
            "Requirement already satisfied: pygments>=2.4.0 in /usr/local/lib/python3.10/dist-packages (from ipython->salesforce-lavis->-r requirements.txt (line 6)) (2.14.0)\n",
            "Requirement already satisfied: stack-data in /usr/local/lib/python3.10/dist-packages (from ipython->salesforce-lavis->-r requirements.txt (line 6)) (0.6.2)\n",
            "Requirement already satisfied: traitlets>=5 in /usr/local/lib/python3.10/dist-packages (from ipython->salesforce-lavis->-r requirements.txt (line 6)) (5.7.1)\n",
            "Requirement already satisfied: pexpect>4.3 in /usr/local/lib/python3.10/dist-packages (from ipython->salesforce-lavis->-r requirements.txt (line 6)) (4.8.0)\n",
            "Requirement already satisfied: MarkupSafe>=2.0 in /usr/local/lib/python3.10/dist-packages (from jinja2->torch->-r requirements.txt (line 4)) (2.1.3)\n",
            "Requirement already satisfied: antlr4-python3-runtime==4.9.* in /usr/local/lib/python3.10/dist-packages (from omegaconf->salesforce-lavis->-r requirements.txt (line 6)) (4.9.3)\n",
            "Requirement already satisfied: kaggle in /usr/local/lib/python3.10/dist-packages (from opendatasets->salesforce-lavis->-r requirements.txt (line 6)) (1.5.15)\n",
            "Requirement already satisfied: python-dateutil>=2.8.1 in /usr/local/lib/python3.10/dist-packages (from pandas->salesforce-lavis->-r requirements.txt (line 6)) (2.8.2)\n",
            "Requirement already satisfied: pytz>=2020.1 in /usr/local/lib/python3.10/dist-packages (from pandas->salesforce-lavis->-r requirements.txt (line 6)) (2022.7.1)\n",
            "Requirement already satisfied: tenacity>=6.2.0 in /usr/local/lib/python3.10/dist-packages (from plotly->salesforce-lavis->-r requirements.txt (line 6)) (8.2.2)\n",
            "Requirement already satisfied: cfgv>=2.0.0 in /usr/local/lib/python3.10/dist-packages (from pre-commit->salesforce-lavis->-r requirements.txt (line 6)) (3.3.1)\n",
            "Requirement already satisfied: identify>=1.0.0 in /usr/local/lib/python3.10/dist-packages (from pre-commit->salesforce-lavis->-r requirements.txt (line 6)) (2.5.24)\n",
            "Requirement already satisfied: nodeenv>=0.11.1 in /usr/local/lib/python3.10/dist-packages (from pre-commit->salesforce-lavis->-r requirements.txt (line 6)) (1.8.0)\n",
            "Requirement already satisfied: virtualenv>=20.10.0 in /usr/local/lib/python3.10/dist-packages (from pre-commit->salesforce-lavis->-r requirements.txt (line 6)) (20.23.1)\n",
            "Requirement already satisfied: matplotlib>=2.1.0 in /usr/local/lib/python3.10/dist-packages (from pycocotools->salesforce-lavis->-r requirements.txt (line 6)) (3.7.1)\n",
            "Requirement already satisfied: urllib3<1.27,>=1.21.1 in /usr/local/lib/python3.10/dist-packages (from requests->transformers==4.30.0->-r requirements.txt (line 3)) (1.26.16)\n",
            "Requirement already satisfied: certifi>=2017.4.17 in /usr/local/lib/python3.10/dist-packages (from requests->transformers==4.30.0->-r requirements.txt (line 3)) (2023.5.7)\n",
            "Requirement already satisfied: charset-normalizer~=2.0.0 in /usr/local/lib/python3.10/dist-packages (from requests->transformers==4.30.0->-r requirements.txt (line 3)) (2.0.12)\n",
            "Requirement already satisfied: idna<4,>=2.5 in /usr/local/lib/python3.10/dist-packages (from requests->transformers==4.30.0->-r requirements.txt (line 3)) (3.4)\n",
            "Requirement already satisfied: scipy>=1.4.1 in /usr/local/lib/python3.10/dist-packages (from scikit-image->salesforce-lavis->-r requirements.txt (line 6)) (1.10.1)\n",
            "Requirement already satisfied: imageio>=2.4.1 in /usr/local/lib/python3.10/dist-packages (from scikit-image->salesforce-lavis->-r requirements.txt (line 6)) (2.25.1)\n",
            "Requirement already satisfied: tifffile>=2019.7.26 in /usr/local/lib/python3.10/dist-packages (from scikit-image->salesforce-lavis->-r requirements.txt (line 6)) (2023.7.4)\n",
            "Requirement already satisfied: PyWavelets>=1.1.1 in /usr/local/lib/python3.10/dist-packages (from scikit-image->salesforce-lavis->-r requirements.txt (line 6)) (1.4.1)\n",
            "Requirement already satisfied: spacy-legacy<3.1.0,>=3.0.11 in /usr/local/lib/python3.10/dist-packages (from spacy->salesforce-lavis->-r requirements.txt (line 6)) (3.0.12)\n",
            "Requirement already satisfied: spacy-loggers<2.0.0,>=1.0.0 in /usr/local/lib/python3.10/dist-packages (from spacy->salesforce-lavis->-r requirements.txt (line 6)) (1.0.4)\n",
            "Requirement already satisfied: murmurhash<1.1.0,>=0.28.0 in /usr/local/lib/python3.10/dist-packages (from spacy->salesforce-lavis->-r requirements.txt (line 6)) (1.0.9)\n",
            "Requirement already satisfied: cymem<2.1.0,>=2.0.2 in /usr/local/lib/python3.10/dist-packages (from spacy->salesforce-lavis->-r requirements.txt (line 6)) (2.0.7)\n",
            "Requirement already satisfied: preshed<3.1.0,>=3.0.2 in /usr/local/lib/python3.10/dist-packages (from spacy->salesforce-lavis->-r requirements.txt (line 6)) (3.0.8)\n",
            "Requirement already satisfied: thinc<8.2.0,>=8.1.8 in /usr/local/lib/python3.10/dist-packages (from spacy->salesforce-lavis->-r requirements.txt (line 6)) (8.1.10)\n",
            "Requirement already satisfied: wasabi<1.2.0,>=0.9.1 in /usr/local/lib/python3.10/dist-packages (from spacy->salesforce-lavis->-r requirements.txt (line 6)) (1.1.2)\n",
            "Requirement already satisfied: srsly<3.0.0,>=2.4.3 in /usr/local/lib/python3.10/dist-packages (from spacy->salesforce-lavis->-r requirements.txt (line 6)) (2.4.6)\n",
            "Requirement already satisfied: catalogue<2.1.0,>=2.0.6 in /usr/local/lib/python3.10/dist-packages (from spacy->salesforce-lavis->-r requirements.txt (line 6)) (2.0.8)\n",
            "Requirement already satisfied: typer<0.10.0,>=0.3.0 in /usr/local/lib/python3.10/dist-packages (from spacy->salesforce-lavis->-r requirements.txt (line 6)) (0.9.0)\n",
            "Requirement already satisfied: pathy>=0.10.0 in /usr/local/lib/python3.10/dist-packages (from spacy->salesforce-lavis->-r requirements.txt (line 6)) (0.10.2)\n",
            "Requirement already satisfied: smart-open<7.0.0,>=5.2.1 in /usr/local/lib/python3.10/dist-packages (from spacy->salesforce-lavis->-r requirements.txt (line 6)) (6.3.0)\n",
            "Requirement already satisfied: pydantic!=1.8,!=1.8.1,<1.11.0,>=1.7.4 in /usr/local/lib/python3.10/dist-packages (from spacy->salesforce-lavis->-r requirements.txt (line 6)) (1.10.11)\n",
            "Requirement already satisfied: setuptools in /usr/local/lib/python3.10/dist-packages (from spacy->salesforce-lavis->-r requirements.txt (line 6)) (67.7.2)\n",
            "Requirement already satisfied: langcodes<4.0.0,>=3.2.0 in /usr/local/lib/python3.10/dist-packages (from spacy->salesforce-lavis->-r requirements.txt (line 6)) (3.3.0)\n",
            "Requirement already satisfied: altair<6,>=4.0 in /usr/local/lib/python3.10/dist-packages (from streamlit->salesforce-lavis->-r requirements.txt (line 6)) (4.2.2)\n",
            "Requirement already satisfied: blinker<2,>=1.0.0 in /usr/local/lib/python3.10/dist-packages (from streamlit->salesforce-lavis->-r requirements.txt (line 6)) (1.6.2)\n",
            "Requirement already satisfied: cachetools<6,>=4.0 in /usr/local/lib/python3.10/dist-packages (from streamlit->salesforce-lavis->-r requirements.txt (line 6)) (5.3.1)\n",
            "Requirement already satisfied: importlib-metadata<7,>=1.4 in /usr/local/lib/python3.10/dist-packages (from streamlit->salesforce-lavis->-r requirements.txt (line 6)) (6.8.0)\n",
            "Requirement already satisfied: protobuf<5,>=3.20 in /usr/local/lib/python3.10/dist-packages (from streamlit->salesforce-lavis->-r requirements.txt (line 6)) (3.20.3)\n",
            "Requirement already satisfied: pyarrow>=4.0 in /usr/local/lib/python3.10/dist-packages (from streamlit->salesforce-lavis->-r requirements.txt (line 6)) (9.0.0)\n",
            "Requirement already satisfied: pympler<2,>=0.9 in /usr/local/lib/python3.10/dist-packages (from streamlit->salesforce-lavis->-r requirements.txt (line 6)) (1.0.1)\n",
            "Requirement already satisfied: rich<14,>=10.11.0 in /usr/local/lib/python3.10/dist-packages (from streamlit->salesforce-lavis->-r requirements.txt (line 6)) (13.4.2)\n",
            "Requirement already satisfied: toml<2 in /usr/local/lib/python3.10/dist-packages (from streamlit->salesforce-lavis->-r requirements.txt (line 6)) (0.10.2)\n",
            "Requirement already satisfied: tzlocal<5,>=1.1 in /usr/local/lib/python3.10/dist-packages (from streamlit->salesforce-lavis->-r requirements.txt (line 6)) (4.3.1)\n",
            "Requirement already satisfied: validators<1,>=0.2 in /usr/local/lib/python3.10/dist-packages (from streamlit->salesforce-lavis->-r requirements.txt (line 6)) (0.20.0)\n",
            "Requirement already satisfied: pydeck<1,>=0.1.dev5 in /usr/local/lib/python3.10/dist-packages (from streamlit->salesforce-lavis->-r requirements.txt (line 6)) (0.8.1b0)\n",
            "Requirement already satisfied: tornado<7,>=6.0.3 in /usr/local/lib/python3.10/dist-packages (from streamlit->salesforce-lavis->-r requirements.txt (line 6)) (6.3.1)\n",
            "Requirement already satisfied: watchdog in /usr/local/lib/python3.10/dist-packages (from streamlit->salesforce-lavis->-r requirements.txt (line 6)) (3.0.0)\n",
            "Requirement already satisfied: mpmath>=0.19 in /usr/local/lib/python3.10/dist-packages (from sympy->torch->-r requirements.txt (line 4)) (1.3.0)\n",
            "Requirement already satisfied: torchdata==0.6.1 in /usr/local/lib/python3.10/dist-packages (from torchtext->labml-nn->-r requirements.txt (line 7)) (0.6.1)\n",
            "Requirement already satisfied: braceexpand in /usr/local/lib/python3.10/dist-packages (from webdataset->salesforce-lavis->-r requirements.txt (line 6)) (0.1.7)\n",
            "Requirement already satisfied: entrypoints in /usr/local/lib/python3.10/dist-packages (from altair<6,>=4.0->streamlit->salesforce-lavis->-r requirements.txt (line 6)) (0.4)\n",
            "Requirement already satisfied: jsonschema>=3.0 in /usr/local/lib/python3.10/dist-packages (from altair<6,>=4.0->streamlit->salesforce-lavis->-r requirements.txt (line 6)) (4.3.3)\n",
            "Requirement already satisfied: toolz in /usr/local/lib/python3.10/dist-packages (from altair<6,>=4.0->streamlit->salesforce-lavis->-r requirements.txt (line 6)) (0.12.0)\n",
            "Requirement already satisfied: gitdb<5,>=4.0.1 in /usr/local/lib/python3.10/dist-packages (from gitpython->labml>=0.4.158->labml-nn->-r requirements.txt (line 7)) (4.0.10)\n",
            "Requirement already satisfied: zipp>=0.5 in /usr/local/lib/python3.10/dist-packages (from importlib-metadata<7,>=1.4->streamlit->salesforce-lavis->-r requirements.txt (line 6)) (3.15.0)\n",
            "Requirement already satisfied: parso<0.9.0,>=0.8.0 in /usr/local/lib/python3.10/dist-packages (from jedi>=0.16->ipython->salesforce-lavis->-r requirements.txt (line 6)) (0.8.3)\n",
            "Requirement already satisfied: contourpy>=1.0.1 in /usr/local/lib/python3.10/dist-packages (from matplotlib>=2.1.0->pycocotools->salesforce-lavis->-r requirements.txt (line 6)) (1.1.0)\n",
            "Requirement already satisfied: cycler>=0.10 in /usr/local/lib/python3.10/dist-packages (from matplotlib>=2.1.0->pycocotools->salesforce-lavis->-r requirements.txt (line 6)) (0.11.0)\n",
            "Requirement already satisfied: fonttools>=4.22.0 in /usr/local/lib/python3.10/dist-packages (from matplotlib>=2.1.0->pycocotools->salesforce-lavis->-r requirements.txt (line 6)) (4.40.0)\n",
            "Requirement already satisfied: kiwisolver>=1.0.1 in /usr/local/lib/python3.10/dist-packages (from matplotlib>=2.1.0->pycocotools->salesforce-lavis->-r requirements.txt (line 6)) (1.4.4)\n",
            "Requirement already satisfied: pyparsing>=2.3.1 in /usr/local/lib/python3.10/dist-packages (from matplotlib>=2.1.0->pycocotools->salesforce-lavis->-r requirements.txt (line 6)) (3.1.0)\n",
            "Requirement already satisfied: ptyprocess>=0.5 in /usr/local/lib/python3.10/dist-packages (from pexpect>4.3->ipython->salesforce-lavis->-r requirements.txt (line 6)) (0.7.0)\n",
            "Requirement already satisfied: six>=1.5 in /usr/local/lib/python3.10/dist-packages (from python-dateutil>=2.8.1->pandas->salesforce-lavis->-r requirements.txt (line 6)) (1.16.0)\n",
            "Requirement already satisfied: markdown-it-py>=2.2.0 in /usr/local/lib/python3.10/dist-packages (from rich<14,>=10.11.0->streamlit->salesforce-lavis->-r requirements.txt (line 6)) (3.0.0)\n",
            "Requirement already satisfied: blis<0.8.0,>=0.7.8 in /usr/local/lib/python3.10/dist-packages (from thinc<8.2.0,>=8.1.8->spacy->salesforce-lavis->-r requirements.txt (line 6)) (0.7.9)\n",
            "Requirement already satisfied: confection<1.0.0,>=0.0.1 in /usr/local/lib/python3.10/dist-packages (from thinc<8.2.0,>=8.1.8->spacy->salesforce-lavis->-r requirements.txt (line 6)) (0.1.0)\n",
            "Requirement already satisfied: pytz-deprecation-shim in /usr/local/lib/python3.10/dist-packages (from tzlocal<5,>=1.1->streamlit->salesforce-lavis->-r requirements.txt (line 6)) (0.1.0.post0)\n",
            "Requirement already satisfied: distlib<1,>=0.3.6 in /usr/local/lib/python3.10/dist-packages (from virtualenv>=20.10.0->pre-commit->salesforce-lavis->-r requirements.txt (line 6)) (0.3.6)\n",
            "Requirement already satisfied: platformdirs<4,>=3.5.1 in /usr/local/lib/python3.10/dist-packages (from virtualenv>=20.10.0->pre-commit->salesforce-lavis->-r requirements.txt (line 6)) (3.8.1)\n",
            "Requirement already satisfied: python-slugify in /usr/local/lib/python3.10/dist-packages (from kaggle->opendatasets->salesforce-lavis->-r requirements.txt (line 6)) (8.0.1)\n",
            "Requirement already satisfied: bleach in /usr/local/lib/python3.10/dist-packages (from kaggle->opendatasets->salesforce-lavis->-r requirements.txt (line 6)) (6.0.0)\n",
            "Requirement already satisfied: executing>=1.2.0 in /usr/local/lib/python3.10/dist-packages (from stack-data->ipython->salesforce-lavis->-r requirements.txt (line 6)) (1.2.0)\n",
            "Requirement already satisfied: asttokens>=2.1.0 in /usr/local/lib/python3.10/dist-packages (from stack-data->ipython->salesforce-lavis->-r requirements.txt (line 6)) (2.2.1)\n",
            "Requirement already satisfied: pure-eval in /usr/local/lib/python3.10/dist-packages (from stack-data->ipython->salesforce-lavis->-r requirements.txt (line 6)) (0.2.2)\n",
            "Requirement already satisfied: smmap<6,>=3.0.1 in /usr/local/lib/python3.10/dist-packages (from gitdb<5,>=4.0.1->gitpython->labml>=0.4.158->labml-nn->-r requirements.txt (line 7)) (5.0.0)\n",
            "Requirement already satisfied: attrs>=17.4.0 in /usr/local/lib/python3.10/dist-packages (from jsonschema>=3.0->altair<6,>=4.0->streamlit->salesforce-lavis->-r requirements.txt (line 6)) (23.1.0)\n",
            "Requirement already satisfied: pyrsistent!=0.17.0,!=0.17.1,!=0.17.2,>=0.14.0 in /usr/local/lib/python3.10/dist-packages (from jsonschema>=3.0->altair<6,>=4.0->streamlit->salesforce-lavis->-r requirements.txt (line 6)) (0.19.3)\n",
            "Requirement already satisfied: mdurl~=0.1 in /usr/local/lib/python3.10/dist-packages (from markdown-it-py>=2.2.0->rich<14,>=10.11.0->streamlit->salesforce-lavis->-r requirements.txt (line 6)) (0.1.2)\n",
            "Requirement already satisfied: webencodings in /usr/local/lib/python3.10/dist-packages (from bleach->kaggle->opendatasets->salesforce-lavis->-r requirements.txt (line 6)) (0.5.1)\n",
            "Requirement already satisfied: text-unidecode>=1.3 in /usr/local/lib/python3.10/dist-packages (from python-slugify->kaggle->opendatasets->salesforce-lavis->-r requirements.txt (line 6)) (1.3)\n",
            "Requirement already satisfied: tzdata in /usr/local/lib/python3.10/dist-packages (from pytz-deprecation-shim->tzlocal<5,>=1.1->streamlit->salesforce-lavis->-r requirements.txt (line 6)) (2023.3)\n",
            "Requirement already satisfied: Ipython in /usr/local/lib/python3.10/dist-packages (8.14.0)\n",
            "Requirement already satisfied: backcall in /usr/local/lib/python3.10/dist-packages (from Ipython) (0.2.0)\n",
            "Requirement already satisfied: decorator in /usr/local/lib/python3.10/dist-packages (from Ipython) (4.4.2)\n",
            "Requirement already satisfied: jedi>=0.16 in /usr/local/lib/python3.10/dist-packages (from Ipython) (0.18.2)\n",
            "Requirement already satisfied: matplotlib-inline in /usr/local/lib/python3.10/dist-packages (from Ipython) (0.1.6)\n",
            "Requirement already satisfied: pickleshare in /usr/local/lib/python3.10/dist-packages (from Ipython) (0.7.5)\n",
            "Requirement already satisfied: prompt-toolkit!=3.0.37,<3.1.0,>=3.0.30 in /usr/local/lib/python3.10/dist-packages (from Ipython) (3.0.39)\n",
            "Requirement already satisfied: pygments>=2.4.0 in /usr/local/lib/python3.10/dist-packages (from Ipython) (2.14.0)\n",
            "Requirement already satisfied: stack-data in /usr/local/lib/python3.10/dist-packages (from Ipython) (0.6.2)\n",
            "Requirement already satisfied: traitlets>=5 in /usr/local/lib/python3.10/dist-packages (from Ipython) (5.7.1)\n",
            "Requirement already satisfied: pexpect>4.3 in /usr/local/lib/python3.10/dist-packages (from Ipython) (4.8.0)\n",
            "Requirement already satisfied: parso<0.9.0,>=0.8.0 in /usr/local/lib/python3.10/dist-packages (from jedi>=0.16->Ipython) (0.8.3)\n",
            "Requirement already satisfied: ptyprocess>=0.5 in /usr/local/lib/python3.10/dist-packages (from pexpect>4.3->Ipython) (0.7.0)\n",
            "Requirement already satisfied: wcwidth in /usr/local/lib/python3.10/dist-packages (from prompt-toolkit!=3.0.37,<3.1.0,>=3.0.30->Ipython) (0.2.6)\n",
            "Requirement already satisfied: executing>=1.2.0 in /usr/local/lib/python3.10/dist-packages (from stack-data->Ipython) (1.2.0)\n",
            "Requirement already satisfied: asttokens>=2.1.0 in /usr/local/lib/python3.10/dist-packages (from stack-data->Ipython) (2.2.1)\n",
            "Requirement already satisfied: pure-eval in /usr/local/lib/python3.10/dist-packages (from stack-data->Ipython) (0.2.2)\n",
            "Requirement already satisfied: six in /usr/local/lib/python3.10/dist-packages (from asttokens>=2.1.0->stack-data->Ipython) (1.16.0)\n"
          ]
        },
        {
          "output_type": "stream",
          "name": "stderr",
          "text": [
            "[nltk_data] Downloading package wordnet to /root/nltk_data...\n",
            "[nltk_data]   Package wordnet is already up-to-date!\n",
            "[nltk_data] Downloading package punkt to /root/nltk_data...\n",
            "[nltk_data]   Package punkt is already up-to-date!\n",
            "[nltk_data] Downloading package averaged_perceptron_tagger to\n",
            "[nltk_data]     /root/nltk_data...\n",
            "[nltk_data]   Package averaged_perceptron_tagger is already up-to-\n",
            "[nltk_data]       date!\n",
            "[nltk_data] Downloading package sentiwordnet to /root/nltk_data...\n",
            "[nltk_data]   Package sentiwordnet is already up-to-date!\n",
            "[nltk_data] Downloading package universal_tagset to /root/nltk_data...\n",
            "[nltk_data]   Package universal_tagset is already up-to-date!\n"
          ]
        },
        {
          "output_type": "stream",
          "name": "stdout",
          "text": [
            "ngrok\n",
            "Authtoken saved to configuration file: /root/.ngrok2/ngrok.yml\n"
          ]
        }
      ]
    },
    {
      "cell_type": "code",
      "execution_count": 72,
      "metadata": {
        "id": "zz6MWNyZv0qn",
        "colab": {
          "base_uri": "https://localhost:8080/"
        },
        "outputId": "b4b4bc32-5359-42eb-c05d-35031fb2a053"
      },
      "outputs": [
        {
          "output_type": "stream",
          "name": "stdout",
          "text": [
            "The autoreload extension is already loaded. To reload it, use:\n",
            "  %reload_ext autoreload\n"
          ]
        }
      ],
      "source": [
        "%load_ext autoreload\n",
        "%autoreload 2"
      ]
    },
    {
      "cell_type": "code",
      "execution_count": 73,
      "metadata": {
        "id": "NWgr_QNCZQzt",
        "colab": {
          "base_uri": "https://localhost:8080/",
          "height": 35
        },
        "outputId": "5680d63b-6f6c-444c-b631-229b3c5a53fc"
      },
      "outputs": [
        {
          "output_type": "execute_result",
          "data": {
            "text/plain": [
              "'\\n#@title Upload your image or use our examples\\nupload_your_image = True # @param {type:\"boolean\"}\\n'"
            ],
            "application/vnd.google.colaboratory.intrinsic+json": {
              "type": "string"
            }
          },
          "metadata": {},
          "execution_count": 73
        }
      ],
      "source": [
        "'''\n",
        "#@title Upload your image or use our examples\n",
        "upload_your_image = True # @param {type:\"boolean\"}\n",
        "'''"
      ]
    },
    {
      "cell_type": "code",
      "source": [
        "'''\n",
        "import os\n",
        "#@title Select examples\n",
        "%cd /content/drive/MyDrive/im2txt/example\n",
        "example_name = 'living_room.jpg' # @param ['dog.jpg', 'living_room.jpg']\n",
        "example_img_path = os.path.join(os.getcwd(), example_name)\n",
        "'''"
      ],
      "metadata": {
        "id": "pwHU8q4Yvuqg",
        "colab": {
          "base_uri": "https://localhost:8080/",
          "height": 52
        },
        "outputId": "831837fd-ea8d-4afc-a1fc-fbfd1a29e320"
      },
      "execution_count": 74,
      "outputs": [
        {
          "output_type": "execute_result",
          "data": {
            "text/plain": [
              "\"\\nimport os\\n#@title Select examples\\n%cd /content/drive/MyDrive/im2txt/example\\nexample_name = 'living_room.jpg' # @param ['dog.jpg', 'living_room.jpg']\\nexample_img_path = os.path.join(os.getcwd(), example_name)\\n\""
            ],
            "application/vnd.google.colaboratory.intrinsic+json": {
              "type": "string"
            }
          },
          "metadata": {},
          "execution_count": 74
        }
      ]
    },
    {
      "cell_type": "code",
      "execution_count": 75,
      "metadata": {
        "id": "6jOxjjNq7DWQ",
        "colab": {
          "base_uri": "https://localhost:8080/",
          "height": 122
        },
        "outputId": "20b46088-6602-4609-dc0e-4b786ff54a5d"
      },
      "outputs": [
        {
          "output_type": "execute_result",
          "data": {
            "text/plain": [
              "\"\\n\\nfrom PIL import Image\\nimport os\\nfrom google.colab import files\\n%cd /content/drive/MyDrive/im2txt/\\n!mkdir your_uploaded_image\\n%cd /content/drive/MyDrive/im2txt/your_uploaded_image\\n\\nif not upload_your_image:\\n  img_name = example_name\\n  img_path = example_img_path\\nelse:\\n    uploaded = files.upload()\\n    if len(uploaded) == 1:\\n        img_name = list(uploaded.keys())[0]\\n        img_path = os.path.join(os.getcwd(), img_name)\\n    else:\\n        raise AssertionError('Please upload one image at a time')\\n\\n\\nimage = Image.open(img_path)# .convert('RGB')\\nprint(img_path)\\n%cd /content/drive/MyDrive/im2txt/nlp_proj\\n\\n\""
            ],
            "application/vnd.google.colaboratory.intrinsic+json": {
              "type": "string"
            }
          },
          "metadata": {},
          "execution_count": 75
        }
      ],
      "source": [
        "# flask for deployment\n",
        "from flask import Flask, render_template, request\n",
        "from flask_ngrok import run_with_ngrok\n",
        "app = Flask(__name__, template_folder=TEMPLATE, static_folder=STATIC)\n",
        "run_with_ngrok(app)\n",
        "\n",
        "@app.route(\"/\")\n",
        "def home():\n",
        "    return render_template(\"home.html\")\n",
        "\n",
        "#@title Upload image\n",
        "\n",
        "\n",
        "\n",
        "import os\n",
        "from werkzeug.utils import secure_filename\n",
        "\n",
        "\n",
        "# !mkdir your_uploaded_image\n",
        "# %cd /content/ConZIC/your_uploaded_image\n",
        "# uploaded = files.upload()\n",
        "img_path = ''\n",
        "img_name = ''\n",
        "\n",
        "image = None\n",
        "@app.route('/uploader', methods=['GET', 'POST'])\n",
        "def upload_file():\n",
        "    if request.method == 'POST':\n",
        "        f = request.files['fileBtn']\n",
        "        if f.filename == '':\n",
        "            return render_template(\"home.html\", message=\"Please choose a picture\")\n",
        "\n",
        "        app.config['UPLOAD_FOLDER'] = os.path.join(STATIC, 'pictures')\n",
        "\n",
        "        f.save(os.path.join(app.config['UPLOAD_FOLDER'], secure_filename(f.filename)))\n",
        "        global img_name, img_path\n",
        "        img_name = f.filename\n",
        "        img_path = os.path.join(app.config['UPLOAD_FOLDER'], img_name)\n",
        "        print(img_path)\n",
        "        global image\n",
        "        image = Image.open(img_path)# .convert('RGB')\n",
        "\n",
        "\n",
        "        return render_template(\"Uploaded.html\")\n",
        "\n",
        "'''\n",
        "\n",
        "from PIL import Image\n",
        "import os\n",
        "from google.colab import files\n",
        "%cd /content/drive/MyDrive/im2txt/\n",
        "!mkdir your_uploaded_image\n",
        "%cd /content/drive/MyDrive/im2txt/your_uploaded_image\n",
        "\n",
        "if not upload_your_image:\n",
        "  img_name = example_name\n",
        "  img_path = example_img_path\n",
        "else:\n",
        "    uploaded = files.upload()\n",
        "    if len(uploaded) == 1:\n",
        "        img_name = list(uploaded.keys())[0]\n",
        "        img_path = os.path.join(os.getcwd(), img_name)\n",
        "    else:\n",
        "        raise AssertionError('Please upload one image at a time')\n",
        "\n",
        "\n",
        "image = Image.open(img_path)# .convert('RGB')\n",
        "print(img_path)\n",
        "%cd /content/drive/MyDrive/im2txt/nlp_proj\n",
        "\n",
        "'''"
      ]
    },
    {
      "cell_type": "markdown",
      "source": [
        "# Setup"
      ],
      "metadata": {
        "id": "SMokOLYucgOH"
      }
    },
    {
      "cell_type": "code",
      "execution_count": 76,
      "metadata": {
        "id": "0or_895v7IaT"
      },
      "outputs": [],
      "source": [
        "# @title Import libs\n",
        "import sys\n",
        "sys.path.pop(-1)\n",
        "sys.path.append('./text_control/gibbs_polish/')\n",
        "\n",
        "from text_control.gibbs_polish.utils import create_logger,set_seed\n",
        "import os\n",
        "import time\n",
        "import argparse\n",
        "import json\n",
        "from PIL import Image\n",
        "import torch\n",
        "\n",
        "import base_cap_models\n",
        "from text_control.gibbs_polish.frameworks import match_models\n",
        "from text_control.gibbs_polish.utils.gen_utils import generate_caption\n",
        "from text_control.gibbs_polish.utils.control_gen_utils import control_generate_caption\n",
        "from transformers import AutoModelForMaskedLM, AutoTokenizer"
      ]
    },
    {
      "cell_type": "code",
      "execution_count": 77,
      "metadata": {
        "id": "K-rdVFhFDc1y"
      },
      "outputs": [],
      "source": [
        "# @title Define parameters\n",
        "def get_args():\n",
        "    parser = argparse.ArgumentParser()\n",
        "\n",
        "    parser.add_argument(\"--seed\", type=int, default=42)\n",
        "    parser.add_argument(\"--batch_size\", type=int, default=1, help = \"Only supports batch_size=1 currently.\")\n",
        "    parser.add_argument(\"--device\", type=str,\n",
        "                        default='pu',choices=['cuda','cpu'])\n",
        "\n",
        "    ## Generation and Controllable Type\n",
        "    parser.add_argument('--run_type',\n",
        "                        default='caption',\n",
        "                        nargs='?',\n",
        "                        choices=['caption', 'controllable'])\n",
        "    parser.add_argument('--prompt',\n",
        "                        default='Image of',type=str)\n",
        "    parser.add_argument('--order',\n",
        "                        default='sequential',\n",
        "                        nargs='?',\n",
        "                        choices=['sequential', 'shuffle', 'span', 'random','parallel'],\n",
        "                        help=\"Generation order of text\")\n",
        "    parser.add_argument('--control_type',\n",
        "                        default='sentiment',\n",
        "                        nargs='?',\n",
        "                        choices=[\"sentiment\",\"pos\"],\n",
        "                        help=\"which controllable task to conduct\")\n",
        "    parser.add_argument('--pos_type', type=list,\n",
        "                        default=[['DET'], ['ADJ','NOUN'], ['NOUN'],\n",
        "                                 ['VERB'], ['VERB'],['ADV'], ['ADP'],\n",
        "                                 ['DET','NOUN'], ['NOUN'], ['NOUN','.'],\n",
        "                                 ['.','NOUN'],['.','NOUN']],\n",
        "                        help=\"predefined part-of-speech templete\")\n",
        "    parser.add_argument('--sentiment_type',\n",
        "                        default=\"positive\",\n",
        "                        nargs='?',\n",
        "                        choices=[\"positive\", \"negative\"])\n",
        "    parser.add_argument('--samples_num',\n",
        "                        default=2,type=int) # Nghĩa là số  sample(caption) được gen ra từ mô hình.\n",
        "\n",
        "    ## Hyperparameters\n",
        "    parser.add_argument(\"--sentence_len\", type=int, default=10)\n",
        "    parser.add_argument(\"--candidate_k\", type=int, default=200)\n",
        "    parser.add_argument(\"--alpha\", type=float, default=0.02, help=\"weight for fluency\")\n",
        "    parser.add_argument(\"--beta\", type=float, default=2.0, help=\"weight for image-matching degree\")\n",
        "    parser.add_argument(\"--gamma\", type=float, default=5.0, help=\"weight for controllable degree\")\n",
        "    parser.add_argument(\"--theta\", type=float, default=3.0, help=\"weight for precise degree\")\n",
        "\n",
        "    parser.add_argument(\"--lm_temperature\", type=float, default=0.1)\n",
        "    parser.add_argument(\"--num_iterations\", type=int, default=10, help=\"predefined iterations for Gibbs Sampling\")\n",
        "\n",
        "    ## Models and Paths\n",
        "    parser.add_argument(\"--lm_model\", type=str, default='bert-base-uncased',\n",
        "                        help=\"Path to language model\") # bert,roberta\n",
        "    parser.add_argument(\"--match_model\", type=str, default='openai/clip-vit-base-patch32',\n",
        "                        help=\"Path to Image-Text model\")  # clip,align\n",
        "    parser.add_argument(\"--caption_img_path\", type=str, default='./examples/girl.jpg',\n",
        "                        help=\"file path of the image for captioning\")\n",
        "    parser.add_argument(\"--stop_words_path\", type=str, default='./text_control/gibbs_polish/stop_words.txt',\n",
        "                        help=\"Path to stop_words.txt\")\n",
        "    parser.add_argument(\"--add_extra_stopwords\", type=list, default=[],\n",
        "                        help=\"you can add some extra stop words\")\n",
        "\n",
        "    args = parser.parse_args(args=[])\n",
        "    return args\n",
        "\n",
        "args = get_args()"
      ]
    },
    {
      "cell_type": "code",
      "execution_count": 78,
      "metadata": {
        "id": "7tptbdD15WFJ"
      },
      "outputs": [],
      "source": [
        "# @title GPU/CPU\n",
        "# is_gpu = True #@param {type:\"boolean\"}"
      ]
    },
    {
      "cell_type": "markdown",
      "metadata": {
        "id": "u8tYBMBF5WFJ"
      },
      "source": [
        "\n",
        "\n",
        "*   RunType: Select RunType equal to \"contrallable\" to control text generation.\n",
        "*   ControlType: Control text by sentiment or part of speech.\n",
        "*   SentimentType: Control sentiment: positive or negative\n",
        "*   Order: Generation order of text\n",
        "*   Alpha: Weight for fluency; Choose between 0 and 1\n",
        "*   Beta: Weight for image-matching degree; Choose between 1 and 5\n",
        "*   Gamma: Weight for controllable degree; Choose between 1 and 10\n",
        "*   SampleNum: Number of runs; Choose between 1 and 5\n",
        "*   Length: Sentence length; Choose between 5 and 10\n",
        "*   NumIterations: Iterations for Gibbs Sampling; Choose between 1 and 15"
      ]
    },
    {
      "cell_type": "code",
      "source": [
        "# @title Load pre-trained model (weights)\n",
        "lm_model, lm_tokenizer, i2t_match_model, base_model, token_mask = [[None]*3, [None]*3, [None]*3, [None]*3, [None]*3]\n",
        "\n",
        "def setup(args, captionVersion):\n",
        "    global lm_model, lm_tokenizer, i2t_match_model, base_model, token_mask\n",
        "    lm_model[captionVersion] = AutoModelForMaskedLM.from_pretrained(args.lm_model).to(args.device)\n",
        "    lm_tokenizer[captionVersion] = AutoTokenizer.from_pretrained(args.lm_model)\n",
        "    lm_model[captionVersion].eval()\n",
        "\n",
        "    i2t_match_model[captionVersion] = match_models.create(model_name = args.match_model)\n",
        "    i2t_match_model[captionVersion].eval()\n",
        "    i2t_match_model[captionVersion] = i2t_match_model[captionVersion].to(args.device)\n",
        "    base_model[captionVersion] = base_cap_models.create(args)\n",
        "\n",
        "    #@title Remove stop words, token mask\n",
        "    import text_control.gibbs_polish.utils as utils\n",
        "    token_mask[captionVersion] = utils.remove_stop_words(args, lm_tokenizer[captionVersion])"
      ],
      "metadata": {
        "id": "H10TU3GB6vY0"
      },
      "execution_count": 79,
      "outputs": []
    },
    {
      "cell_type": "code",
      "source": [
        "# @title Create logger\n",
        "\n",
        "run_type = \"caption\" if args.run_type==\"caption\" else args.control_type\n",
        "if run_type==\"sentiment\":\n",
        "    run_type = args.sentiment_type\n",
        "\n",
        "if os.path.exists(\"logger\")== False:\n",
        "    os.mkdir(\"logger\")\n",
        "logger = create_logger(\n",
        "    \"logger\",'demo_{}_{}_len{}_topk{}_alpha{}_beta{}_gamma{}_theta{}_lmtemp{}_{}.log'.format(\n",
        "    run_type, args.order, args.sentence_len,\n",
        "    args.candidate_k, args.alpha, args.beta,args.gamma,args.theta, args.lm_temperature,\n",
        "    time.strftime(\"%Y-%m-%d-%H-%M-%S\", time.localtime())))\n",
        "\n",
        "logger.info(f\"Generating order:{args.order}\")\n",
        "logger.info(f\"Run type:{run_type}\")\n",
        "\n",
        "logger.info(args)"
      ],
      "metadata": {
        "id": "Toq8l4sNK6rM",
        "colab": {
          "base_uri": "https://localhost:8080/"
        },
        "outputId": "7af71e90-997a-4a36-d067-4d16ee26deac"
      },
      "execution_count": 80,
      "outputs": [
        {
          "output_type": "stream",
          "name": "stderr",
          "text": [
            "Generating order:sequential\u001b[0m\n",
            "Generating order:sequential\u001b[0m\n",
            "Generating order:sequential\u001b[0m\n",
            "Generating order:sequential\u001b[0m\n",
            "Generating order:sequential\u001b[0m\n",
            "INFO:ConZIC:Generating order:sequential\n",
            "Run type:caption\u001b[0m\n",
            "Run type:caption\u001b[0m\n",
            "Run type:caption\u001b[0m\n",
            "Run type:caption\u001b[0m\n",
            "Run type:caption\u001b[0m\n",
            "INFO:ConZIC:Run type:caption\n",
            "Namespace(seed=42, batch_size=1, device='pu', run_type='caption', prompt='Image of', order='sequential', control_type='sentiment', pos_type=[['DET'], ['ADJ', 'NOUN'], ['NOUN'], ['VERB'], ['VERB'], ['ADV'], ['ADP'], ['DET', 'NOUN'], ['NOUN'], ['NOUN', '.'], ['.', 'NOUN'], ['.', 'NOUN']], sentiment_type='positive', samples_num=2, sentence_len=10, candidate_k=200, alpha=0.02, beta=2.0, gamma=5.0, theta=3.0, lm_temperature=0.1, num_iterations=10, lm_model='bert-base-uncased', match_model='openai/clip-vit-base-patch32', caption_img_path='./examples/girl.jpg', stop_words_path='./text_control/gibbs_polish/stop_words.txt', add_extra_stopwords=[])\u001b[0m\n",
            "Namespace(seed=42, batch_size=1, device='pu', run_type='caption', prompt='Image of', order='sequential', control_type='sentiment', pos_type=[['DET'], ['ADJ', 'NOUN'], ['NOUN'], ['VERB'], ['VERB'], ['ADV'], ['ADP'], ['DET', 'NOUN'], ['NOUN'], ['NOUN', '.'], ['.', 'NOUN'], ['.', 'NOUN']], sentiment_type='positive', samples_num=2, sentence_len=10, candidate_k=200, alpha=0.02, beta=2.0, gamma=5.0, theta=3.0, lm_temperature=0.1, num_iterations=10, lm_model='bert-base-uncased', match_model='openai/clip-vit-base-patch32', caption_img_path='./examples/girl.jpg', stop_words_path='./text_control/gibbs_polish/stop_words.txt', add_extra_stopwords=[])\u001b[0m\n",
            "Namespace(seed=42, batch_size=1, device='pu', run_type='caption', prompt='Image of', order='sequential', control_type='sentiment', pos_type=[['DET'], ['ADJ', 'NOUN'], ['NOUN'], ['VERB'], ['VERB'], ['ADV'], ['ADP'], ['DET', 'NOUN'], ['NOUN'], ['NOUN', '.'], ['.', 'NOUN'], ['.', 'NOUN']], sentiment_type='positive', samples_num=2, sentence_len=10, candidate_k=200, alpha=0.02, beta=2.0, gamma=5.0, theta=3.0, lm_temperature=0.1, num_iterations=10, lm_model='bert-base-uncased', match_model='openai/clip-vit-base-patch32', caption_img_path='./examples/girl.jpg', stop_words_path='./text_control/gibbs_polish/stop_words.txt', add_extra_stopwords=[])\u001b[0m\n",
            "Namespace(seed=42, batch_size=1, device='pu', run_type='caption', prompt='Image of', order='sequential', control_type='sentiment', pos_type=[['DET'], ['ADJ', 'NOUN'], ['NOUN'], ['VERB'], ['VERB'], ['ADV'], ['ADP'], ['DET', 'NOUN'], ['NOUN'], ['NOUN', '.'], ['.', 'NOUN'], ['.', 'NOUN']], sentiment_type='positive', samples_num=2, sentence_len=10, candidate_k=200, alpha=0.02, beta=2.0, gamma=5.0, theta=3.0, lm_temperature=0.1, num_iterations=10, lm_model='bert-base-uncased', match_model='openai/clip-vit-base-patch32', caption_img_path='./examples/girl.jpg', stop_words_path='./text_control/gibbs_polish/stop_words.txt', add_extra_stopwords=[])\u001b[0m\n",
            "Namespace(seed=42, batch_size=1, device='pu', run_type='caption', prompt='Image of', order='sequential', control_type='sentiment', pos_type=[['DET'], ['ADJ', 'NOUN'], ['NOUN'], ['VERB'], ['VERB'], ['ADV'], ['ADP'], ['DET', 'NOUN'], ['NOUN'], ['NOUN', '.'], ['.', 'NOUN'], ['.', 'NOUN']], sentiment_type='positive', samples_num=2, sentence_len=10, candidate_k=200, alpha=0.02, beta=2.0, gamma=5.0, theta=3.0, lm_temperature=0.1, num_iterations=10, lm_model='bert-base-uncased', match_model='openai/clip-vit-base-patch32', caption_img_path='./examples/girl.jpg', stop_words_path='./text_control/gibbs_polish/stop_words.txt', add_extra_stopwords=[])\u001b[0m\n",
            "INFO:ConZIC:Namespace(seed=42, batch_size=1, device='pu', run_type='caption', prompt='Image of', order='sequential', control_type='sentiment', pos_type=[['DET'], ['ADJ', 'NOUN'], ['NOUN'], ['VERB'], ['VERB'], ['ADV'], ['ADP'], ['DET', 'NOUN'], ['NOUN'], ['NOUN', '.'], ['.', 'NOUN'], ['.', 'NOUN']], sentiment_type='positive', samples_num=2, sentence_len=10, candidate_k=200, alpha=0.02, beta=2.0, gamma=5.0, theta=3.0, lm_temperature=0.1, num_iterations=10, lm_model='bert-base-uncased', match_model='openai/clip-vit-base-patch32', caption_img_path='./examples/girl.jpg', stop_words_path='./text_control/gibbs_polish/stop_words.txt', add_extra_stopwords=[])\n"
          ]
        }
      ]
    },
    {
      "cell_type": "markdown",
      "source": [
        "# Generate caption in multi modes"
      ],
      "metadata": {
        "id": "HRkTt3hDvKyb"
      }
    },
    {
      "cell_type": "code",
      "source": [
        "args1 = get_args()\n",
        "args2 = get_args()\n",
        "args3 = get_args()\n",
        "\n",
        "@app.route('/configure', methods=['GET', 'POST'])\n",
        "def configure():\n",
        "  if request.method == 'POST':\n",
        "    BaseModel = request.form.get(\"baseModel\")\n",
        "    is_gpu = int(request.form.get('isGpu'))\n",
        "    print(is_gpu)\n",
        "    args1.device = \"cuda\" if is_gpu else \"cpu\"\n",
        "    args1.base_model = BaseModel\n",
        "\n",
        "    set_seed(args1.seed)\n",
        "\n",
        "    Gamma = 3\n",
        "    RunType = 'caption'\n",
        "    Alpha = float(request.form.get('alphaCaption'))\n",
        "    Beta = float(request.form.get('betaCaption'))\n",
        "    Length = int(request.form.get('lengthCaption'))\n",
        "\n",
        "    Theta = float(request.form.get('thetaCaption'))\n",
        "    MLM = request.form.get('MLM')\n",
        "    BaseModel = request.form.get('baseModelCaption')\n",
        "    MatchModelName = request.form.get('matchModelName')\n",
        "    TopP = float(request.form.get('topPCaption'))\n",
        "\n",
        "    SamplesNum = int(request.form.get('samplesNumCaption'))\n",
        "    Order = request.form.get('orderCaption')\n",
        "    NumIterations = int(request.form.get('numIterationsCaption'))\n",
        "\n",
        "    args2.base_model = BaseModel\n",
        "    args2.candidate_k = 200\n",
        "    args2.top_p = TopP\n",
        "    args2.sentence_len = Length\n",
        "    args2.run_type = RunType\n",
        "    args2.alpha = Alpha\n",
        "    args2.beta = Beta\n",
        "    args2.gamma = Gamma\n",
        "    args2.theta = Theta\n",
        "    args2.samples_num = SamplesNum\n",
        "    args2.order = Order\n",
        "    args2.num_iterations = NumIterations\n",
        "    args2.caption_img_path = img_path\n",
        "    args2.device = \"cuda\" if is_gpu else \"cpu\"\n",
        "    args2.lm_model = MLM\n",
        "    args2.match_model = MatchModelName\n",
        "\n",
        "    set_seed(args2.seed)\n",
        "\n",
        "    RunType = 'controllable'\n",
        "    ControlType = 'sentiment'\n",
        "    MLM = request.form.get('MLMControl')\n",
        "    MatchModelName = request.form.get('matchModelNameControl')\n",
        "    SentimentType = request.form.get('sentimentType')\n",
        "    Order = request.form.get('orderControl')\n",
        "    Alpha = float(request.form.get('alphaControl'))\n",
        "    Beta = float(request.form.get('betaControl'))\n",
        "    Theta = 0\n",
        "    Gamma = float(request.form.get('gammaControl'))\n",
        "    SamplesNum = int(request.form.get('samplesNumControl'))\n",
        "    Length = int(request.form.get('lengthControl'))\n",
        "    NumIterations = int(request.form.get('numIterationsControl'))\n",
        "    TopP = float(request.form.get('topPControl'))\n",
        "\n",
        "    args3.base_model = BaseModel\n",
        "    args3.candidate_k = 200\n",
        "    args3.top_p = TopP\n",
        "    args3.sentence_len = Length\n",
        "    args3.run_type = RunType\n",
        "    args3.control_type = ControlType\n",
        "    args3.sentiment_type = SentimentType\n",
        "    args3.alpha = Alpha\n",
        "    args3.beta = Beta\n",
        "    args3.gamma = Gamma\n",
        "    args3.theta = Theta\n",
        "    args3.samples_num = SamplesNum\n",
        "    args3.order = Order\n",
        "    args3.num_iterations = NumIterations\n",
        "    args3.caption_img_path = img_path\n",
        "    args3.device = \"cuda\" if is_gpu else \"cpu\"\n",
        "    args3.lm_model = MLM\n",
        "    args3.match_model = MatchModelName\n",
        "\n",
        "    set_seed(args3.seed)\n",
        "\n",
        "    return render_template(\"processing.html\")\n",
        "\n",
        "\n",
        "@app.route('/processing')\n",
        "def processing():\n",
        "  setup(args1, 0)\n",
        "  init_caption = base_cap_models.gen_init_cap(base_model[0], image)\n",
        "  print(init_caption)\n",
        "\n",
        "\n",
        "  from text_control.gibbs_polish.utils.gen_utils import generate_caption\n",
        "  setup(args2, 1)\n",
        "  captions, score = generate_caption(\n",
        "      img_name,\n",
        "      lm_model[1],\n",
        "      i2t_match_model[1], lm_tokenizer[1],\n",
        "      image, init_caption,\n",
        "      token_mask[1], logger,\n",
        "      prompt=args2.prompt, batch_size=args2.batch_size, max_len=args2.sentence_len,\n",
        "      top_k=args2.candidate_k, top_p = args2.top_p,\n",
        "      temperature=args2.lm_temperature,\n",
        "      max_iter=args2.num_iterations,\n",
        "      alpha=args2.alpha,beta=args2.beta,theta=args2.theta,\n",
        "      generate_order = args2.order\n",
        "  )\n",
        "  # @title Output\n",
        "  best_id = 0\n",
        "  for i in range(len(captions)):\n",
        "      if captions[i] > captions[best_id]:\n",
        "          best_id = i\n",
        "  print(\"Base caption: \", init_caption)\n",
        "  print(\"Best caption: \", captions[best_id][0])\n",
        "  print(\"Final Caption: \", captions[-1][0])\n",
        "\n",
        "\n",
        "  setup(args3, 2)\n",
        "  FinalCaptions, BestCaptions = run_control(args3.run_type, args3, img_path, lm_model[2], lm_tokenizer[2], i2t_match_model[2], token_mask[2], logger)\n",
        "  print(\"Best caption: \", BestCaptions[-1])\n",
        "  print(\"Final Caption: \", FinalCaptions[-1])\n",
        "\n",
        "  return render_template(\"Result.html\", baseCaption = init_caption, bestCaption1=captions[best_id][0], finalCaption1=captions[-1][0], bestCaption2=BestCaptions[-1], finalCaption2=FinalCaptions[-1], image='pictures/' + img_name)\n",
        "\n"
      ],
      "metadata": {
        "id": "MKVV-xqEvDFx"
      },
      "execution_count": 81,
      "outputs": []
    },
    {
      "cell_type": "code",
      "execution_count": 82,
      "metadata": {
        "id": "b11C9FxI5WFK",
        "colab": {
          "base_uri": "https://localhost:8080/",
          "height": 191
        },
        "outputId": "b1a29aea-aab8-446a-c84b-c4842c3e5933"
      },
      "outputs": [
        {
          "output_type": "execute_result",
          "data": {
            "text/plain": [
              "'\\n# @title Factual mode tuning\\nRunType = \\'caption\\'\\nBaseModel = \"blip1\"  # @param [\\'blip1\\', \\'cnn-lstm\\']\\nMLM = \\'bert-base-uncased\\' # @param [\\'bert-base-uncased\\', \\'distilbert-base-uncased\\', \\'bert-large-uncased\\', \\'bert-large-uncased-whole-word-masking\\']\\n# \\'roberta-base\\',\\n# \\'facebook/bart-large-cnn\\',\\n\\nMatchModelName = \\'openai/clip-vit-base-patch32\\' # @param [\\'openai/clip-vit-base-patch32\\', \\'kakaobrain/align-base\\']\\nRunType = \\'caption\\'\\nOrder = \\'precise\\' # @param [\\'sequential\\', \\'shuffle\\', \\'random\\', \\'precise\\']\\nAlpha = 0.02 # @param {type:\"slider\", min:0, max:1, step:0.01}\\nBeta = 3.5 # @param {type:\"slider\", min:1, max:5, step:0.5}\\nGamma = 3\\nTheta = 1.5 # @param {type:\"slider\", min:0, max:10, step:0.5}\\nSamplesNum = 1 # @param {type:\"slider\", min:1, max:5, step:1}\\nLength = 8 # @param {type:\"slider\", min:5, max:15,  step:1}\\nNumIterations = 5 # @param {type:\"slider\", min:1, max:15, step:1}\\nTopP = 1.0001 # @param {type:\"slider\", min:0, max:1.0001, step:0.0001}\\n\\n\\n# args.prompt = Prompt\\nargs.base_model = BaseModel\\nargs.candidate_k = 200\\nargs.top_p = TopP\\nargs.sentence_len = Length\\nargs.run_type = RunType\\nargs.alpha = Alpha\\nargs.beta = Beta\\nargs.gamma = Gamma\\nargs.theta = Theta\\nargs.samples_num = SamplesNum\\nargs.order = Order\\nargs.num_iterations = NumIterations\\nargs.caption_img_path = img_path\\nargs.device = \"cuda\" if is_gpu else \"cpu\"\\nargs.lm_model = MLM\\nargs.match_model = MatchModelName\\nset_seed(args.seed)\\n\\nsetup(args)\\n\\n# Print result\\nfrom text_control.gibbs_polish.utils.gen_utils import generate_caption\\ncaptions, score = generate_caption(\\n    img_name,\\n    lm_model,\\n    i2t_match_model, lm_tokenizer,\\n    image, init_caption,\\n    token_mask, logger,\\n    prompt=args.prompt, batch_size=args.batch_size, max_len=args.sentence_len,\\n    top_k=args.candidate_k, top_p = args.top_p,\\n    temperature=args.lm_temperature,\\n    max_iter=args.num_iterations,\\n    alpha=args.alpha,beta=args.beta,theta=args.theta,\\n    generate_order = args.order\\n)\\n# @title Output\\nImage.open(img_path).show()\\nbest_id = 0\\nfor i in range(len(captions)):\\n    if captions[i] > captions[best_id]:\\n        best_id = i\\nprint(\"Base caption: \", init_caption)\\nprint(\"Best caption: \", captions[best_id][0])\\nprint(\"Final Caption: \", captions[-1][0])\\n'"
            ],
            "application/vnd.google.colaboratory.intrinsic+json": {
              "type": "string"
            }
          },
          "metadata": {},
          "execution_count": 82
        }
      ],
      "source": [
        "'''\n",
        "# @title Factual mode tuning\n",
        "RunType = 'caption'\n",
        "BaseModel = \"blip1\"  # @param ['blip1', 'cnn-lstm']\n",
        "MLM = 'bert-base-uncased' # @param ['bert-base-uncased', 'distilbert-base-uncased', 'bert-large-uncased', 'bert-large-uncased-whole-word-masking']\n",
        "# 'roberta-base',\n",
        "# 'facebook/bart-large-cnn',\n",
        "\n",
        "MatchModelName = 'openai/clip-vit-base-patch32' # @param ['openai/clip-vit-base-patch32', 'kakaobrain/align-base']\n",
        "RunType = 'caption'\n",
        "Order = 'precise' # @param ['sequential', 'shuffle', 'random', 'precise']\n",
        "Alpha = 0.02 # @param {type:\"slider\", min:0, max:1, step:0.01}\n",
        "Beta = 3.5 # @param {type:\"slider\", min:1, max:5, step:0.5}\n",
        "Gamma = 3\n",
        "Theta = 1.5 # @param {type:\"slider\", min:0, max:10, step:0.5}\n",
        "SamplesNum = 1 # @param {type:\"slider\", min:1, max:5, step:1}\n",
        "Length = 8 # @param {type:\"slider\", min:5, max:15,  step:1}\n",
        "NumIterations = 5 # @param {type:\"slider\", min:1, max:15, step:1}\n",
        "TopP = 1.0001 # @param {type:\"slider\", min:0, max:1.0001, step:0.0001}\n",
        "\n",
        "\n",
        "# args.prompt = Prompt\n",
        "args.base_model = BaseModel\n",
        "args.candidate_k = 200\n",
        "args.top_p = TopP\n",
        "args.sentence_len = Length\n",
        "args.run_type = RunType\n",
        "args.alpha = Alpha\n",
        "args.beta = Beta\n",
        "args.gamma = Gamma\n",
        "args.theta = Theta\n",
        "args.samples_num = SamplesNum\n",
        "args.order = Order\n",
        "args.num_iterations = NumIterations\n",
        "args.caption_img_path = img_path\n",
        "args.device = \"cuda\" if is_gpu else \"cpu\"\n",
        "args.lm_model = MLM\n",
        "args.match_model = MatchModelName\n",
        "set_seed(args.seed)\n",
        "\n",
        "setup(args)\n",
        "\n",
        "# Print result\n",
        "from text_control.gibbs_polish.utils.gen_utils import generate_caption\n",
        "captions, score = generate_caption(\n",
        "    img_name,\n",
        "    lm_model,\n",
        "    i2t_match_model, lm_tokenizer,\n",
        "    image, init_caption,\n",
        "    token_mask, logger,\n",
        "    prompt=args.prompt, batch_size=args.batch_size, max_len=args.sentence_len,\n",
        "    top_k=args.candidate_k, top_p = args.top_p,\n",
        "    temperature=args.lm_temperature,\n",
        "    max_iter=args.num_iterations,\n",
        "    alpha=args.alpha,beta=args.beta,theta=args.theta,\n",
        "    generate_order = args.order\n",
        ")\n",
        "# @title Output\n",
        "Image.open(img_path).show()\n",
        "best_id = 0\n",
        "for i in range(len(captions)):\n",
        "    if captions[i] > captions[best_id]:\n",
        "        best_id = i\n",
        "print(\"Base caption: \", init_caption)\n",
        "print(\"Best caption: \", captions[best_id][0])\n",
        "print(\"Final Caption: \", captions[-1][0])\n",
        "'''"
      ]
    },
    {
      "cell_type": "code",
      "source": [
        "'''\n",
        "import json\n",
        "from torch.utils.data import Dataset, DataLoader\n",
        "path2data = \"/content/drive/MyDrive/im2txt/coco/val2017\"\n",
        "path2json = \"/content/drive/MyDrive/im2txt/coco/annotations/captions_val2017.json\"\n",
        "path2cap = \"/content/drive/MyDrive/im2txt/nlp_proj/base_cap_models/blip/coco_evals/blip1_coco_captions.json\"\n",
        "\n",
        "import datasets.mscoco as mscoco\n",
        "\n",
        "img_data = mscoco.CocoCaptionTest(\n",
        "    root = path2data,\n",
        "    annFile = path2json,\n",
        "    init_cap_dir = path2cap,\n",
        ")\n",
        "train_loader = DataLoader(img_data, batch_size=args.batch_size, collate_fn=mscoco.collate_img, shuffle=False, drop_last=True)\n",
        "'''"
      ],
      "metadata": {
        "id": "F3N-RHJ8xijs",
        "colab": {
          "base_uri": "https://localhost:8080/",
          "height": 122
        },
        "outputId": "9c31673b-918f-4716-9fcc-1f7908b1668c"
      },
      "execution_count": 83,
      "outputs": [
        {
          "output_type": "execute_result",
          "data": {
            "text/plain": [
              "'\\nimport json\\nfrom torch.utils.data import Dataset, DataLoader\\npath2data = \"/content/drive/MyDrive/im2txt/coco/val2017\"\\npath2json = \"/content/drive/MyDrive/im2txt/coco/annotations/captions_val2017.json\"\\npath2cap = \"/content/drive/MyDrive/im2txt/nlp_proj/base_cap_models/blip/coco_evals/blip1_coco_captions.json\"\\n\\nimport datasets.mscoco as mscoco\\n\\nimg_data = mscoco.CocoCaptionTest(\\n    root = path2data,\\n    annFile = path2json,\\n    init_cap_dir = path2cap,\\n)\\ntrain_loader = DataLoader(img_data, batch_size=args.batch_size, collate_fn=mscoco.collate_img, shuffle=False, drop_last=True)\\n'"
            ],
            "application/vnd.google.colaboratory.intrinsic+json": {
              "type": "string"
            }
          },
          "metadata": {},
          "execution_count": 83
        }
      ]
    },
    {
      "cell_type": "code",
      "source": [
        "'''\n",
        "from text_control.gibbs_polish.utils.precisemode_eval_utils import get_coco_cap_json\n",
        "get_coco_cap_json(\n",
        "    args, run_type, lm_model, lm_tokenizer, i2t_match_model, token_mask, logger,\n",
        "    train_loader\n",
        ")\n",
        "'''"
      ],
      "metadata": {
        "id": "ki4ib67orLK3",
        "colab": {
          "base_uri": "https://localhost:8080/",
          "height": 52
        },
        "outputId": "acc8de85-1318-41b3-a53c-0cc2ea13f2b6"
      },
      "execution_count": 84,
      "outputs": [
        {
          "output_type": "execute_result",
          "data": {
            "text/plain": [
              "'\\nfrom text_control.gibbs_polish.utils.precisemode_eval_utils import get_coco_cap_json\\nget_coco_cap_json(\\n    args, run_type, lm_model, lm_tokenizer, i2t_match_model, token_mask, logger,\\n    train_loader\\n)\\n'"
            ],
            "application/vnd.google.colaboratory.intrinsic+json": {
              "type": "string"
            }
          },
          "metadata": {},
          "execution_count": 84
        }
      ]
    },
    {
      "cell_type": "code",
      "source": [
        "'''\n",
        "# @title Controllable mode tuning\n",
        "\n",
        "args = get_args()\n",
        "RunType = 'controllable'\n",
        "MLM = 'bert-base-uncased' # @param ['bert-base-uncased', 'distilbert-base-uncased', 'bert-large-uncased', 'bert-large-uncased-whole-word-masking']\n",
        "# 'roberta-base',\n",
        "# 'facebook/bart-large-cnn',\n",
        "\n",
        "MatchModelName = 'openai/clip-vit-base-patch32' # @param ['openai/clip-vit-base-patch32', 'kakaobrain/align-base']\n",
        "RunType = 'controllable'\n",
        "ControlType = 'sentiment'\n",
        "SentimentType = 'negative' # @param [\"positive\", \"negative\"]\n",
        "Order = 'shuffle' # @param ['sequential', 'shuffle', 'random']\n",
        "Alpha = 0.02 # @param {type:\"slider\", min:0, max:1, step:0.01}\n",
        "Beta = 2.5 # @param {type:\"slider\", min:1, max:5, step:0.5}\n",
        "Theta = 0\n",
        "Gamma = 8.5 # @param {type:\"slider\", min:1, max:10, step:0.5}\n",
        "SamplesNum = 1 # @param {type:\"slider\", min:1, max:5, step:1}\n",
        "Length = 13 # @param {type:\"slider\", min:5, max:15,  step:1}\n",
        "NumIterations = 5 # @param {type:\"slider\", min:1, max:15, step:1}\n",
        "TopP = 0.9795 # @param {type:\"slider\", min:0, max:1.0001, step:0.0001}\n",
        "# args.prompt = Prompt\n",
        "args.base_model = BaseModel\n",
        "args.candidate_k = 200\n",
        "args.top_p = TopP\n",
        "args.sentence_len = Length\n",
        "args.run_type = RunType\n",
        "args.control_type = ControlType\n",
        "args.sentiment_type = SentimentType\n",
        "args.alpha = Alpha\n",
        "args.beta = Beta\n",
        "args.gamma = Gamma\n",
        "args.theta = Theta\n",
        "args.samples_num = SamplesNum\n",
        "args.order = Order\n",
        "args.num_iterations = NumIterations\n",
        "args.caption_img_path = img_path\n",
        "args.device = \"cuda\" if is_gpu else \"cpu\"\n",
        "args.lm_model = MLM\n",
        "args.match_model = MatchModelName\n",
        "set_seed(args.seed)\n",
        "\n",
        "setup(args)\n",
        "'''\n",
        "\n",
        "import functools\n",
        "def run_control(run_type, args, image_path, lm_model, lm_tokenizer, clip, token_mask, logger):\n",
        "    FinalCaptionList = []\n",
        "    BestCaptionList = []\n",
        "    logger.info(f\"Processing: {image_path}\")\n",
        "    image_instance = Image.open(image_path).convert(\"RGB\")\n",
        "\n",
        "    for sample_id in range(args.samples_num):\n",
        "        logger.info(f\"Sample {sample_id}: \")\n",
        "        gen_texts, clip_scores = control_generate_caption(img_name, lm_model, clip, lm_tokenizer, image_instance, token_mask, logger,\n",
        "                                  prompt=args.prompt, batch_size=args.batch_size, max_len=args.sentence_len,\n",
        "                                  top_k=args.candidate_k, temperature=args.lm_temperature,\n",
        "                                  max_iter=args.num_iterations, alpha=args.alpha,\n",
        "                                  beta=args.beta, gamma=args.gamma,\n",
        "                                  ctl_type = args.control_type, style_type=args.sentiment_type,pos_type=args.pos_type, generate_order=args.order)\n",
        "\n",
        "        gen_texts = functools.reduce(lambda x,y: x+y,gen_texts)\n",
        "        # Chuyển gentexts từ dạng hierachy list thành dạng list chỉ 1 string, không bao gồm các list con.\n",
        "        FinalCaptionStr = \"Sample {}: \".format(sample_id + 1) + gen_texts[-2]\n",
        "\n",
        "        BestCaptionStr = \"Sample {}: \".format(sample_id + 1) + gen_texts[-1]\n",
        "        FinalCaptionList.append(FinalCaptionStr)\n",
        "        BestCaptionList.append(BestCaptionStr)\n",
        "    return FinalCaptionList, BestCaptionList\n",
        "'''\n",
        "FinalCaptions, BestCaptions = run_control(run_type, args, img_path, lm_model, lm_tokenizer, i2t_match_model, token_mask, logger)\n",
        "\n",
        "print(\"Best caption: \", BestCaptions[-1])\n",
        "print(\"Final Caption: \", FinalCaptions[-1])\n",
        "'''\n",
        "\n",
        "\n",
        "app.run()"
      ],
      "metadata": {
        "id": "OLZqRKhbJXxk",
        "colab": {
          "base_uri": "https://localhost:8080/"
        },
        "outputId": "e73cd390-8543-4c59-d4d2-fa04b0b437dd"
      },
      "execution_count": 85,
      "outputs": [
        {
          "output_type": "stream",
          "name": "stdout",
          "text": [
            " * Serving Flask app '__main__'\n",
            " * Debug mode: off\n"
          ]
        },
        {
          "output_type": "stream",
          "name": "stderr",
          "text": [
            "INFO:werkzeug:\u001b[31m\u001b[1mWARNING: This is a development server. Do not use it in a production deployment. Use a production WSGI server instead.\u001b[0m\n",
            " * Running on http://127.0.0.1:5000\n",
            "INFO:werkzeug:\u001b[33mPress CTRL+C to quit\u001b[0m\n",
            "DEBUG:urllib3.connectionpool:Starting new HTTP connection (1): localhost:4040\n",
            "DEBUG:urllib3.connectionpool:http://localhost:4040 \"GET /api/tunnels HTTP/1.1\" 200 801\n"
          ]
        },
        {
          "output_type": "stream",
          "name": "stdout",
          "text": [
            " * Running on http://28e2-34-125-79-27.ngrok-free.app\n",
            " * Traffic stats available on http://127.0.0.1:4040\n"
          ]
        },
        {
          "output_type": "stream",
          "name": "stderr",
          "text": [
            "INFO:werkzeug:127.0.0.1 - - [11/Jul/2023 19:01:17] \"GET / HTTP/1.1\" 200 -\n",
            "INFO:werkzeug:127.0.0.1 - - [11/Jul/2023 19:01:17] \"GET /static/styles/home.css HTTP/1.1\" 200 -\n",
            "INFO:werkzeug:127.0.0.1 - - [11/Jul/2023 19:01:18] \"GET /static/home.js HTTP/1.1\" 200 -\n",
            "INFO:werkzeug:127.0.0.1 - - [11/Jul/2023 19:01:19] \"GET / HTTP/1.1\" 200 -\n",
            "INFO:werkzeug:127.0.0.1 - - [11/Jul/2023 19:01:24] \"\u001b[31m\u001b[1mPOST /uploader HTTP/1.1\u001b[0m\" 400 -\n",
            "INFO:werkzeug:127.0.0.1 - - [11/Jul/2023 19:01:27] \"POST /uploader HTTP/1.1\" 200 -\n"
          ]
        },
        {
          "output_type": "stream",
          "name": "stdout",
          "text": [
            "/content/drive/MyDrive/Colab Notebooks/VnCv2023/static/pictures/BGDA0025.JPG\n"
          ]
        },
        {
          "output_type": "stream",
          "name": "stderr",
          "text": [
            "INFO:werkzeug:127.0.0.1 - - [11/Jul/2023 19:01:27] \"\u001b[36mGET /static/styles/home.css HTTP/1.1\u001b[0m\" 304 -\n",
            "INFO:werkzeug:127.0.0.1 - - [11/Jul/2023 19:01:43] \"POST /configure HTTP/1.1\" 200 -\n"
          ]
        },
        {
          "output_type": "stream",
          "name": "stdout",
          "text": [
            "0\n"
          ]
        },
        {
          "output_type": "stream",
          "name": "stderr",
          "text": [
            "DEBUG:urllib3.connectionpool:Resetting dropped connection: huggingface.co\n",
            "DEBUG:urllib3.connectionpool:https://huggingface.co:443 \"HEAD /bert-base-uncased/resolve/main/config.json HTTP/1.1\" 200 0\n",
            "Some weights of the model checkpoint at bert-base-uncased were not used when initializing BertForMaskedLM: ['cls.seq_relationship.bias', 'cls.seq_relationship.weight']\n",
            "- This IS expected if you are initializing BertForMaskedLM from the checkpoint of a model trained on another task or with another architecture (e.g. initializing a BertForSequenceClassification model from a BertForPreTraining model).\n",
            "- This IS NOT expected if you are initializing BertForMaskedLM from the checkpoint of a model that you expect to be exactly identical (initializing a BertForSequenceClassification model from a BertForSequenceClassification model).\n",
            "DEBUG:urllib3.connectionpool:https://huggingface.co:443 \"HEAD /bert-base-uncased/resolve/main/generation_config.json HTTP/1.1\" 404 0\n",
            "DEBUG:urllib3.connectionpool:https://huggingface.co:443 \"HEAD /bert-base-uncased/resolve/main/tokenizer_config.json HTTP/1.1\" 200 0\n",
            "DEBUG:urllib3.connectionpool:https://huggingface.co:443 \"HEAD /openai/clip-vit-base-patch32/resolve/main/config.json HTTP/1.1\" 200 0\n"
          ]
        },
        {
          "output_type": "stream",
          "name": "stdout",
          "text": [
            "Initializing CLIP model...\n"
          ]
        },
        {
          "output_type": "stream",
          "name": "stderr",
          "text": [
            "DEBUG:urllib3.connectionpool:https://huggingface.co:443 \"HEAD /openai/clip-vit-base-patch32/resolve/main/preprocessor_config.json HTTP/1.1\" 200 0\n",
            "DEBUG:urllib3.connectionpool:https://huggingface.co:443 \"HEAD /openai/clip-vit-base-patch32/resolve/main/tokenizer_config.json HTTP/1.1\" 200 0\n",
            "DEBUG:urllib3.connectionpool:https://huggingface.co:443 \"HEAD /openai/clip-vit-base-patch32/resolve/main/vocab.json HTTP/1.1\" 200 0\n",
            "DEBUG:urllib3.connectionpool:https://huggingface.co:443 \"HEAD /Salesforce/blip-image-captioning-base/resolve/main/preprocessor_config.json HTTP/1.1\" 200 0\n",
            "DEBUG:urllib3.connectionpool:https://huggingface.co:443 \"HEAD /Salesforce/blip-image-captioning-base/resolve/main/preprocessor_config.json HTTP/1.1\" 200 0\n"
          ]
        },
        {
          "output_type": "stream",
          "name": "stdout",
          "text": [
            "CLIP model initialized.\n"
          ]
        },
        {
          "output_type": "stream",
          "name": "stderr",
          "text": [
            "DEBUG:urllib3.connectionpool:https://huggingface.co:443 \"HEAD /Salesforce/blip-image-captioning-base/resolve/main/preprocessor_config.json HTTP/1.1\" 200 0\n",
            "DEBUG:urllib3.connectionpool:https://huggingface.co:443 \"HEAD /Salesforce/blip-image-captioning-base/resolve/main/tokenizer_config.json HTTP/1.1\" 200 0\n",
            "DEBUG:urllib3.connectionpool:https://huggingface.co:443 \"HEAD /Salesforce/blip-image-captioning-base/resolve/main/config.json HTTP/1.1\" 200 0\n"
          ]
        },
        {
          "output_type": "stream",
          "name": "stdout",
          "text": [
            "[2133, 1, 2, 3, 4, 5, 6, 7, 8, 9, 10, 11, 12, 13, 14, 15, 16, 17, 18, 19, 20, 21, 22, 23, 24, 25, 26, 27, 28, 29, 30, 31, 32, 33, 34, 35, 36, 37, 38, 39, 40, 41, 42, 43, 44, 45, 46, 47, 48, 49, 50, 51, 52, 53, 54, 55, 56, 57, 58, 59, 60, 61, 62, 63, 64, 65, 66, 67, 68, 69, 70, 71, 72, 73, 74, 75, 76, 77, 78, 79, 80, 81, 82, 83, 84, 85, 86, 87, 88, 89, 90, 91, 92, 93, 94, 95, 96, 97, 98, 99, 104, 105, 106, 107, 108, 109, 110, 111, 112, 113, 114, 115, 116, 117, 118, 119, 120, 121, 122, 123, 124, 125, 126, 127, 128, 129, 130, 131, 132, 133, 134, 135, 136, 137, 138, 139, 140, 141, 142, 143, 144, 145, 146, 147, 148, 149, 150, 151, 152, 153, 154, 155, 156, 157, 158, 159, 160, 161, 162, 163, 164, 165, 166, 167, 168, 169, 170, 171, 172, 173, 174, 175, 176, 177, 178, 179, 180, 181, 182, 183, 184, 185, 186, 187, 188, 189, 190, 191, 192, 193, 194, 195, 196, 197, 198, 199, 200, 201, 202, 203, 204, 205, 206, 207, 208, 209, 210, 211, 212, 213, 214, 215, 216, 217, 218, 219, 220, 221, 222, 223, 224, 225, 226, 227, 228, 229, 230, 231, 232, 233, 234, 235, 236, 237, 238, 239, 240, 241, 242, 243, 244, 245, 246, 247, 248, 249, 250, 251, 252, 253, 254, 255, 256, 257, 258, 259, 260, 261, 262, 263, 264, 265, 266, 267, 268, 269, 270, 271, 272, 273, 274, 275, 276, 277, 278, 279, 280, 281, 282, 283, 284, 285, 286, 287, 288, 289, 290, 291, 292, 293, 294, 295, 296, 297, 298, 299, 300, 301, 302, 303, 304, 305, 306, 307, 308, 309, 310, 311, 312, 313, 314, 315, 316, 317, 318, 319, 320, 321, 322, 323, 324, 325, 326, 327, 328, 329, 330, 331, 332, 333, 334, 335, 336, 337, 338, 339, 340, 341, 342, 343, 344, 345, 346, 347, 348, 349, 350, 351, 352, 353, 354, 355, 356, 357, 358, 359, 360, 361, 362, 363, 364, 365, 366, 367, 368, 369, 370, 371, 372, 373, 374, 375, 376, 377, 378, 379, 380, 381, 382, 383, 384, 385, 386, 387, 388, 389, 390, 391, 392, 393, 394, 395, 396, 397, 398, 399, 400, 401, 402, 403, 404, 405, 406, 407, 408, 409, 410, 411, 412, 413, 414, 415, 416, 417, 418, 419, 420, 421, 422, 423, 424, 425, 426, 427, 428, 429, 430, 431, 432, 433, 434, 435, 436, 437, 438, 439, 440, 441, 442, 443, 444, 445, 446, 447, 448, 449, 450, 451, 452, 453, 454, 455, 456, 457, 458, 459, 460, 461, 462, 463, 464, 465, 466, 467, 468, 469, 470, 471, 472, 473, 474, 475, 476, 477, 478, 479, 480, 481, 482, 483, 484, 485, 486, 487, 488, 489, 490, 491, 492, 493, 494, 495, 496, 497, 498, 499, 500, 501, 502, 503, 504, 505, 506, 507, 508, 509, 510, 511, 512, 513, 514, 515, 516, 517, 518, 519, 520, 521, 522, 523, 524, 525, 526, 527, 528, 529, 530, 531, 532, 533, 534, 535, 536, 537, 538, 539, 540, 541, 542, 543, 544, 545, 546, 547, 548, 549, 550, 551, 552, 553, 554, 555, 556, 557, 558, 559, 560, 561, 562, 563, 564, 565, 566, 567, 568, 569, 570, 571, 572, 573, 574, 575, 576, 577, 578, 579, 580, 581, 582, 583, 584, 585, 586, 587, 588, 589, 590, 591, 592, 593, 594, 595, 596, 597, 598, 599, 600, 601, 602, 603, 604, 605, 606, 607, 608, 609, 610, 611, 612, 613, 614, 615, 616, 617, 618, 619, 620, 621, 622, 623, 624, 625, 626, 627, 628, 629, 630, 631, 632, 633, 634, 635, 636, 637, 638, 639, 640, 641, 642, 643, 644, 645, 646, 647, 648, 649, 650, 651, 652, 653, 654, 655, 656, 657, 658, 659, 660, 661, 662, 663, 664, 665, 666, 667, 668, 669, 670, 671, 672, 673, 674, 675, 676, 677, 678, 679, 680, 681, 682, 683, 684, 685, 686, 687, 688, 689, 690, 691, 692, 693, 694, 695, 696, 697, 698, 699, 700, 701, 702, 703, 704, 705, 706, 707, 708, 709, 710, 711, 712, 713, 714, 715, 716, 717, 718, 719, 720, 721, 722, 723, 724, 725, 726, 727, 728, 729, 730, 731, 732, 733, 734, 735, 736, 737, 738, 739, 740, 741, 742, 743, 744, 745, 746, 747, 748, 749, 750, 751, 752, 753, 754, 755, 756, 757, 758, 759, 760, 761, 762, 763, 764, 765, 766, 767, 768, 769, 770, 771, 772, 773, 774, 775, 776, 777, 778, 779, 780, 781, 782, 783, 784, 785, 786, 787, 788, 789, 790, 791, 792, 793, 794, 795, 796, 797, 798, 799, 800, 801, 802, 803, 804, 805, 806, 807, 808, 809, 810, 811, 812, 813, 814, 815, 816, 817, 818, 819, 820, 821, 822, 823, 824, 825, 826, 827, 828, 829, 830, 831, 832, 833, 834, 835, 836, 837, 838, 839, 840, 841, 842, 843, 844, 845, 846, 847, 848, 849, 850, 851, 852, 853, 854, 855, 856, 857, 858, 859, 860, 861, 862, 863, 864, 865, 866, 867, 868, 869, 870, 871, 872, 873, 874, 875, 876, 877, 878, 879, 880, 881, 882, 883, 884, 885, 886, 887, 888, 889, 890, 891, 892, 893, 894, 895, 896, 897, 898, 899, 900, 901, 902, 903, 904, 905, 906, 907, 908, 909, 910, 911, 912, 913, 914, 915, 916, 917, 918, 919, 920, 921, 922, 923, 924, 925, 926, 927, 928, 929, 930, 931, 932, 933, 934, 935, 936, 937, 938, 939, 940, 941, 942, 943, 944, 945, 946, 947, 948, 949, 950, 951, 952, 953, 954, 955, 956, 957, 958, 959, 960, 961, 962, 963, 964, 965, 966, 967, 968, 969, 970, 971, 972, 973, 974, 975, 976, 977, 978, 979, 980, 981, 982, 983, 984, 985, 986, 987, 988, 989, 990, 991, 992, 993, 994, 995, 996, 997, 998, 999, 1000, 1001, 1002, 1003, 1004, 1005, 1006, 1007, 1008, 1009, 1010, 1011, 1013, 1024, 1025, 1026, 1027, 1028, 1029, 1030, 1031, 1032, 1033, 1034, 1035, 1036, 1063, 1064, 1065, 1066, 1067, 1068, 1069, 1070, 1071, 1072, 1073, 1074, 1075, 1076, 1077, 1078, 1079, 1080, 1081, 1082, 1083, 1084, 1085, 1086, 1087, 1088, 1089, 1090, 1091, 1092, 1093, 1094, 1095, 1096, 1097, 1098, 1099, 1100, 1101, 1102, 1103, 1104, 1105, 1106, 1107, 1108, 1109, 1110, 1111, 1112, 1113, 1114, 1115, 1116, 1117, 1118, 1119, 1120, 1121, 1122, 1123, 1124, 1125, 1126, 1127, 1128, 1129, 1130, 1131, 1132, 1133, 1134, 1135, 1136, 1137, 1138, 1139, 1140, 1141, 1142, 1143, 1144, 1145, 1146, 1147, 1148, 1149, 1150, 1151, 1152, 1153, 1154, 1155, 1156, 1157, 1158, 1159, 1160, 1161, 1162, 1163, 1164, 1165, 1166, 1167, 1168, 1169, 1170, 1171, 1172, 1173, 1174, 1175, 1176, 1177, 1178, 1179, 1180, 1181, 1182, 1183, 1184, 1185, 1186, 1187, 1188, 1189, 1190, 1191, 1192, 1193, 1194, 1195, 1196, 1197, 1198, 1199, 1200, 1201, 1202, 1203, 1204, 1205, 1206, 1207, 1208, 1209, 1210, 1211, 1212, 1213, 1214, 1215, 1216, 1217, 1218, 1219, 1220, 1221, 1222, 1223, 1224, 1225, 1226, 1227, 1228, 1229, 1230, 1231, 1232, 1233, 1234, 1235, 1236, 1237, 1238, 1239, 1240, 1241, 1242, 1243, 1244, 1245, 1246, 1247, 1248, 1249, 1250, 1251, 1252, 1253, 1254, 1255, 1256, 1257, 1258, 1259, 1260, 1261, 1262, 1263, 1264, 1265, 1266, 1267, 1268, 1269, 1270, 1271, 1272, 1273, 1274, 1275, 1276, 1277, 1278, 1279, 1280, 1281, 1282, 1283, 1284, 1285, 1286, 1287, 1288, 1289, 1290, 1291, 1292, 1293, 1294, 1295, 1296, 1297, 1298, 1299, 1300, 1301, 1302, 1303, 1304, 1305, 1306, 1307, 1308, 1309, 1310, 1311, 1312, 1313, 1314, 1315, 1316, 1317, 1318, 1319, 1320, 1321, 1322, 1323, 1324, 1325, 1326, 1327, 1328, 1329, 1330, 1331, 1332, 1333, 1334, 1335, 1336, 1337, 1338, 1339, 1340, 1341, 1342, 1343, 1344, 1345, 1346, 1347, 1348, 1349, 1350, 1351, 1352, 1353, 1354, 1355, 1356, 1357, 1358, 1359, 1360, 1361, 1362, 1363, 1364, 1365, 1366, 1367, 1368, 1369, 1370, 1371, 1372, 1373, 1374, 1375, 1376, 1377, 1378, 1379, 1380, 1381, 1382, 1383, 1384, 1385, 1386, 1387, 1388, 1389, 1390, 1391, 1392, 1393, 1394, 1395, 1396, 1397, 1398, 1399, 1400, 1401, 1402, 1403, 1404, 1405, 1406, 1407, 1408, 1409, 1410, 1411, 1412, 1413, 1414, 1415, 1416, 1417, 1418, 1419, 1420, 1421, 1422, 1423, 1424, 1425, 1426, 1427, 1428, 1429, 1430, 1431, 1432, 1433, 1434, 1435, 1436, 1437, 1438, 1439, 1440, 1441, 1442, 1443, 1444, 1445, 1446, 1447, 1448, 1449, 1450, 1451, 1452, 1453, 1454, 1455, 1456, 1457, 1458, 1459, 1460, 1461, 1462, 1463, 1464, 1465, 1466, 1467, 1468, 1469, 1470, 1471, 1472, 1473, 1474, 1475, 1476, 1477, 1478, 1479, 1480, 1481, 1482, 1483, 1484, 1485, 1486, 1487, 1488, 1489, 1490, 1491, 1492, 1493, 1494, 1495, 1496, 1497, 1498, 1499, 1500, 1501, 1502, 1503, 1504, 1505, 1506, 1507, 1508, 1509, 1510, 1511, 1512, 1513, 1514, 1515, 1516, 1517, 1518, 1519, 1520, 1521, 1522, 1523, 1524, 1525, 1526, 1527, 1528, 1529, 1530, 1531, 1532, 1533, 1534, 1535, 1536, 1537, 1538, 1539, 1540, 1541, 1542, 1543, 1544, 1545, 1546, 1547, 1548, 1549, 1550, 1551, 1552, 1553, 1554, 1555, 1556, 1557, 1558, 1559, 1560, 1561, 1562, 1563, 1564, 1565, 1566, 1567, 1568, 1569, 1570, 1571, 1572, 1573, 1574, 1575, 1576, 1577, 1578, 1579, 1580, 1581, 1582, 1583, 1584, 1585, 1586, 1587, 1588, 1589, 1590, 1591, 1592, 1593, 1594, 1595, 1596, 1597, 1598, 1599, 1600, 1601, 1602, 1603, 1604, 1605, 1606, 1607, 1608, 1609, 1610, 1611, 1612, 1613, 1614, 1615, 1616, 1617, 1618, 1619, 1620, 1621, 1622, 1623, 1624, 1625, 1626, 1627, 1628, 1629, 1630, 1631, 1632, 1633, 1634, 1635, 1636, 1637, 1638, 1639, 1640, 1641, 1642, 1643, 1644, 1645, 1646, 1647, 1648, 1649, 1650, 1651, 1652, 1653, 1654, 1655, 1656, 1657, 1658, 1659, 1660, 1661, 1662, 1663, 1664, 1665, 1666, 1667, 1668, 1669, 1670, 1671, 1672, 1673, 1674, 1675, 1676, 1677, 1678, 1679, 1680, 1681, 1682, 1683, 1684, 1685, 1686, 1687, 1688, 1689, 1690, 1691, 1692, 1693, 1694, 1695, 1696, 1697, 1698, 1699, 1700, 1701, 1702, 1703, 1704, 1705, 1706, 1707, 1708, 1709, 1710, 1711, 1712, 1713, 1714, 1715, 1716, 1717, 1718, 1719, 1720, 1721, 1722, 1723, 1724, 1725, 1726, 1727, 1728, 1729, 1730, 1731, 1732, 1733, 1734, 1735, 1736, 1737, 1738, 1739, 1740, 1741, 1742, 1743, 1744, 1745, 1746, 1747, 1748, 1749, 1750, 1751, 1752, 1753, 1754, 1755, 1756, 1757, 1758, 1759, 1760, 1761, 1762, 1763, 1764, 1765, 1766, 1767, 1768, 1769, 1770, 1771, 1772, 1773, 1774, 1775, 1776, 1777, 1778, 1779, 1780, 1781, 1782, 1783, 1784, 1785, 1786, 1787, 1788, 1789, 1790, 1791, 1792, 1793, 1794, 1795, 1796, 1797, 1798, 1799, 1800, 1801, 1802, 1803, 1804, 1805, 1806, 1807, 1808, 1809, 1810, 1811, 1812, 1813, 1814, 1815, 1816, 1817, 1818, 1819, 1820, 1821, 1822, 1823, 1824, 1825, 1826, 1827, 1828, 1829, 1830, 1831, 1832, 1833, 1834, 1835, 1836, 1837, 1838, 1839, 1840, 1841, 1842, 1843, 1844, 1845, 1846, 1847, 1848, 1849, 1850, 1851, 1852, 1853, 1854, 1855, 1856, 1857, 1858, 1859, 1860, 1861, 1862, 1863, 1864, 1865, 1866, 1867, 1868, 1869, 1870, 1871, 1872, 1873, 1874, 1875, 1876, 1877, 1878, 1879, 1880, 1881, 1882, 1883, 1884, 1885, 1886, 1887, 1888, 1889, 1890, 1891, 1892, 1893, 1894, 1895, 1896, 1897, 1898, 1899, 1900, 1901, 1902, 1903, 1904, 1905, 1906, 1907, 1908, 1909, 1910, 1911, 1912, 1913, 1914, 1915, 1916, 1917, 1918, 1919, 1920, 1921, 1922, 1923, 1924, 1925, 1926, 1927, 1928, 1929, 1930, 1931, 1932, 1933, 1934, 1935, 1936, 1937, 1938, 1939, 1940, 1941, 1942, 1943, 1944, 1945, 1946, 1947, 1948, 1949, 1950, 1951, 1952, 1953, 1954, 1955, 1956, 1957, 1958, 1959, 1960, 1961, 1962, 1963, 1964, 1965, 1966, 1967, 1968, 1969, 1970, 1971, 1972, 1973, 1974, 1975, 1976, 1977, 1978, 1979, 1980, 1981, 1982, 1983, 1984, 1985, 1986, 1987, 1988, 1990, 1991, 1992, 1993, 1994, 1995, 1014, 1015, 1016, 1017, 1018, 1019, 1020, 1021, 1022, 1023, 1082, 1083, 1088, 1536, 1538, 1539, 1540, 1541, 1542, 1543, 1547, 1548, 1549, 1550, 1551, 1552, 1553, 1554, 1555, 1556, 2184, 2199, 2230, 2249, 2260, 2262, 2263, 2268, 2286, 2289, 2294, 2297, 2321, 2322, 2324, 2325, 2340, 2355, 2382, 2384, 2385, 2403, 2410, 2418, 2423, 2432, 2456, 2459, 2484, 2494, 2526, 2531, 2538, 2539, 2541, 2570, 2603, 2639, 2654, 2656, 2676, 2687, 2722, 2727, 2753, 2756, 2760, 2786, 2807, 2826, 2857, 2861, 2871, 2889, 2901, 2960, 2997, 3055, 3069, 3106, 3118, 3150, 3156, 3172, 3196, 3245, 3261, 3263, 3285, 3299, 3301, 3326, 3339, 3355, 3359, 3380, 3381, 3386, 3411, 3429, 3438, 3440, 3476, 3486, 3515, 3546, 3547, 3551, 3590, 3624, 3646, 3699, 3705, 3758, 3770, 3777, 3826, 3838, 3845, 3851, 3874, 3878, 3882, 3890, 3912, 3918, 3925, 3938, 3943, 3963, 3982, 3998, 3999, 4002, 4006, 4008, 4029, 4051, 4052, 4085, 4090, 4131, 4185, 4229, 4260, 4261, 4266, 4271, 4278, 4293, 4347, 4413, 4437, 4444, 4464, 4466, 4479, 4529, 4537, 4554, 4579, 4583, 4585, 4601, 4612, 4662, 4673, 4700, 4720, 4724, 4739, 4749, 4764, 4798, 4805, 4814, 4849, 4868, 4878, 4881, 4885, 4891, 4927, 4936, 4947, 4976, 5018, 5124, 5139, 5141, 5174, 5179, 5184, 5187, 5316, 5345, 5354, 5385, 5388, 5401, 5497, 5511, 5518, 5528, 5539, 5556, 5585, 5594, 5641, 5692, 5709, 5718, 5757, 5764, 5774, 5775, 5778, 5786, 5818, 5824, 5840, 5890, 5986, 5989, 6021, 6036, 6068, 6070, 6079, 6109, 6146, 6163, 6166, 6185, 6191, 6193, 6205, 6227, 6255, 6273, 6275, 6282, 6301, 6306, 6347, 6352, 6353, 6356, 6365, 6390, 6391, 6421, 6445, 6478, 6486, 6489, 6527, 6535, 6539, 6564, 6571, 6584, 6607, 6640, 6690, 6694, 6717, 6725, 6756, 6837, 6863, 6889, 6899, 6929, 6940, 6988, 7005, 7131, 7257, 7261, 7287, 7313, 7326, 7428, 7449, 7466, 7517, 7557, 7558, 7572, 7582, 7586, 7612, 7647, 7706, 7845, 7886, 7973, 7993, 8148, 8165, 8204, 8380, 8421, 8492, 8517, 8574, 8698, 8708, 8732, 8746, 8784, 8792, 8905, 8933, 9037, 9176, 9244, 9402, 9475, 9500, 9512, 9645, 9683, 9713, 9730, 9800, 9807, 9840, 9842, 9931, 10008, 10011, 10075, 10081, 10114, 10150, 10212, 10332, 10347, 10476, 10545, 10550, 10630, 10679, 10700, 10715, 10894, 10937, 10977, 11040, 11102, 11118, 11176, 11212, 11384, 11502, 11517, 11518, 11523, 11617, 11723, 11786, 11816, 11827, 11899, 11910, 11931, 12094, 12104, 12169, 12307, 12309, 12357, 12387, 12410, 12457, 12518, 12522, 12529, 12552, 12567, 12606, 12609, 12651, 12861, 12862, 12875, 12904, 12963, 13029, 13036, 13040, 13086, 13092, 13126, 13138, 13140, 13199, 13206, 13274, 13285, 13393, 13397, 13412, 13414, 13427, 13509, 13515, 13539, 13710, 13739, 13741, 13756, 13757, 13839, 13885, 13913, 13963, 14010, 14078, 14112, 14168, 14210, 14276, 14362, 14378, 14506, 14677, 14748, 14840, 14883, 14989, 14993, 15017, 15028, 15051, 15170, 15331, 15376, 15407, 15471, 15622, 15678, 16029, 16057, 16065, 16087, 16144, 16202, 16327, 16331, 16333, 16345, 16444, 16459, 16471, 16496, 16528, 16601, 16621, 16666, 16710, 16734, 16785, 16788, 16798, 16832, 16890, 16923, 17014, 17196, 17222, 17262, 17267, 17273, 17295, 17317, 17332, 17365, 17403, 17405, 17422, 17436, 17442, 17483, 17528, 17593, 17613, 17616, 17691, 17696, 17711, 17825, 17832, 17867, 17943, 17954, 18034, 18118, 18164, 18171, 18225, 18253, 18432, 18512, 18540, 18561, 18582, 18596, 18610, 18677, 18744, 18914, 19015, 19096, 19121, 19123, 19151, 19235, 19289, 19342, 19348, 19410, 19446, 19492, 19527, 19540, 19594, 19609, 19611, 19627, 19652, 19681, 19711, 19714, 19793, 19827, 19843, 19871, 19883, 19916, 19936, 19955, 19975, 19984, 19988, 19989, 20003, 20024, 20035, 20143, 20263, 20294, 20304, 20311, 20317, 20335, 20405, 20500, 20549, 20636, 20637, 20652, 20663, 20666, 20708, 20713, 20741, 20797, 20802, 20827, 20982, 21005, 21035, 21036, 21064, 21211, 21267, 21364, 21410, 21417, 21488, 21489, 21502, 21533, 21611, 21667, 21679, 21757, 21777, 21809, 21875, 21950, 22018, 22030, 22060, 22061, 22096, 22115, 22234, 22238, 22288, 22343, 22370, 22376, 22431, 22533, 22582, 22593, 22606, 22621, 22649, 22685, 22777, 22810, 22857, 22884, 22898, 22904, 22955, 22997, 23090, 23254, 23272, 23285, 23297, 23380, 23475, 23477, 23523, 23532, 23535, 23593, 23609, 23612, 23628, 23688, 23712, 23768, 23785, 23810, 23841, 23859, 23908, 23944, 23980, 23988, 24030, 24046, 24061, 24082, 24125, 24194, 24231, 24232, 24259, 24368, 24398, 24406, 24426, 24429, 24440, 24441, 24445, 24507, 24522, 24559, 24568, 24621, 24622, 24643, 24673, 24690, 24704, 24709, 24736, 24765, 24837, 24841, 24902, 24921, 24994, 25029, 25048, 25053, 25103, 25108, 25113, 25143, 25162, 25186, 25191, 25195, 25241, 25246, 25256, 25280, 25350, 25371, 25374, 25392, 25491, 25504, 25534, 25535, 25578, 25586, 25604, 25615, 25621, 25625, 25651, 25682, 25702, 25704, 25717, 25745, 25797, 25800, 25801, 25833, 25846, 25873, 25897, 25909, 25926, 25961, 26059, 26063, 26081, 26231, 26245, 26253, 26257, 26263, 26267, 26271, 26423, 26499, 26538, 26621, 26628, 26637, 26667, 26689, 26738, 26776, 26833, 26839, 26871, 26953, 26963, 26995, 27003, 27016, 27037, 27054, 27173, 27194, 27200, 27230, 27234, 27240, 27253, 27337, 27367, 27407, 27414, 27426, 27433, 27445, 27497, 27502, 27509, 27517, 27519, 27525, 27533, 27536, 27582, 27643, 27658, 27671, 27676, 27689, 27743, 27769, 27810, 27878, 27882, 27908, 27924, 27954, 28004, 28009, 28015, 28048, 28058, 28066, 28122, 28133, 28135, 28161, 28162, 28188, 28192, 28196, 28202, 28203, 28204, 28216, 28245, 28278, 28288, 28342, 28358, 28366, 28434, 28438, 28446, 28449, 28455, 28460, 28469, 28474, 28485, 28489, 28502, 28531, 28601, 28622, 28627, 28690, 28707, 28714, 28718, 28754, 28769, 28783, 28818, 28853, 28864, 28881, 28906, 28941, 28944, 28952, 28955, 28977, 29016, 29029, 29056, 29065, 29077, 29140, 29185, 29186, 29269, 29302, 29309, 29326, 29327, 29335, 29359, 29386, 29403, 29478, 29541, 29562, 29567]\n",
            "a group of people posing for a picture\n"
          ]
        },
        {
          "output_type": "stream",
          "name": "stderr",
          "text": [
            "DEBUG:urllib3.connectionpool:https://huggingface.co:443 \"HEAD /bert-base-uncased/resolve/main/config.json HTTP/1.1\" 200 0\n",
            "Some weights of the model checkpoint at bert-base-uncased were not used when initializing BertForMaskedLM: ['cls.seq_relationship.bias', 'cls.seq_relationship.weight']\n",
            "- This IS expected if you are initializing BertForMaskedLM from the checkpoint of a model trained on another task or with another architecture (e.g. initializing a BertForSequenceClassification model from a BertForPreTraining model).\n",
            "- This IS NOT expected if you are initializing BertForMaskedLM from the checkpoint of a model that you expect to be exactly identical (initializing a BertForSequenceClassification model from a BertForSequenceClassification model).\n",
            "DEBUG:urllib3.connectionpool:https://huggingface.co:443 \"HEAD /bert-base-uncased/resolve/main/generation_config.json HTTP/1.1\" 404 0\n",
            "DEBUG:urllib3.connectionpool:https://huggingface.co:443 \"HEAD /bert-base-uncased/resolve/main/tokenizer_config.json HTTP/1.1\" 200 0\n",
            "DEBUG:urllib3.connectionpool:https://huggingface.co:443 \"HEAD /kakaobrain/align-base/resolve/main/config.json HTTP/1.1\" 200 0\n"
          ]
        },
        {
          "output_type": "stream",
          "name": "stdout",
          "text": [
            "Initializing ALIGN model...\n"
          ]
        },
        {
          "output_type": "stream",
          "name": "stderr",
          "text": [
            "DEBUG:urllib3.connectionpool:https://huggingface.co:443 \"HEAD /kakaobrain/align-base/resolve/main/preprocessor_config.json HTTP/1.1\" 200 0\n",
            "DEBUG:urllib3.connectionpool:https://huggingface.co:443 \"HEAD /kakaobrain/align-base/resolve/main/tokenizer_config.json HTTP/1.1\" 200 0\n",
            "DEBUG:urllib3.connectionpool:https://huggingface.co:443 \"HEAD /Salesforce/blip-image-captioning-base/resolve/main/preprocessor_config.json HTTP/1.1\" 200 0\n"
          ]
        },
        {
          "output_type": "stream",
          "name": "stdout",
          "text": [
            "ALIGN model initialized.\n"
          ]
        },
        {
          "output_type": "stream",
          "name": "stderr",
          "text": [
            "DEBUG:urllib3.connectionpool:https://huggingface.co:443 \"HEAD /Salesforce/blip-image-captioning-base/resolve/main/preprocessor_config.json HTTP/1.1\" 200 0\n",
            "DEBUG:urllib3.connectionpool:https://huggingface.co:443 \"HEAD /Salesforce/blip-image-captioning-base/resolve/main/preprocessor_config.json HTTP/1.1\" 200 0\n",
            "DEBUG:urllib3.connectionpool:https://huggingface.co:443 \"HEAD /Salesforce/blip-image-captioning-base/resolve/main/tokenizer_config.json HTTP/1.1\" 200 0\n",
            "DEBUG:urllib3.connectionpool:https://huggingface.co:443 \"HEAD /Salesforce/blip-image-captioning-base/resolve/main/config.json HTTP/1.1\" 200 0\n"
          ]
        },
        {
          "output_type": "stream",
          "name": "stdout",
          "text": [
            "[2133, 1, 2, 3, 4, 5, 6, 7, 8, 9, 10, 11, 12, 13, 14, 15, 16, 17, 18, 19, 20, 21, 22, 23, 24, 25, 26, 27, 28, 29, 30, 31, 32, 33, 34, 35, 36, 37, 38, 39, 40, 41, 42, 43, 44, 45, 46, 47, 48, 49, 50, 51, 52, 53, 54, 55, 56, 57, 58, 59, 60, 61, 62, 63, 64, 65, 66, 67, 68, 69, 70, 71, 72, 73, 74, 75, 76, 77, 78, 79, 80, 81, 82, 83, 84, 85, 86, 87, 88, 89, 90, 91, 92, 93, 94, 95, 96, 97, 98, 99, 104, 105, 106, 107, 108, 109, 110, 111, 112, 113, 114, 115, 116, 117, 118, 119, 120, 121, 122, 123, 124, 125, 126, 127, 128, 129, 130, 131, 132, 133, 134, 135, 136, 137, 138, 139, 140, 141, 142, 143, 144, 145, 146, 147, 148, 149, 150, 151, 152, 153, 154, 155, 156, 157, 158, 159, 160, 161, 162, 163, 164, 165, 166, 167, 168, 169, 170, 171, 172, 173, 174, 175, 176, 177, 178, 179, 180, 181, 182, 183, 184, 185, 186, 187, 188, 189, 190, 191, 192, 193, 194, 195, 196, 197, 198, 199, 200, 201, 202, 203, 204, 205, 206, 207, 208, 209, 210, 211, 212, 213, 214, 215, 216, 217, 218, 219, 220, 221, 222, 223, 224, 225, 226, 227, 228, 229, 230, 231, 232, 233, 234, 235, 236, 237, 238, 239, 240, 241, 242, 243, 244, 245, 246, 247, 248, 249, 250, 251, 252, 253, 254, 255, 256, 257, 258, 259, 260, 261, 262, 263, 264, 265, 266, 267, 268, 269, 270, 271, 272, 273, 274, 275, 276, 277, 278, 279, 280, 281, 282, 283, 284, 285, 286, 287, 288, 289, 290, 291, 292, 293, 294, 295, 296, 297, 298, 299, 300, 301, 302, 303, 304, 305, 306, 307, 308, 309, 310, 311, 312, 313, 314, 315, 316, 317, 318, 319, 320, 321, 322, 323, 324, 325, 326, 327, 328, 329, 330, 331, 332, 333, 334, 335, 336, 337, 338, 339, 340, 341, 342, 343, 344, 345, 346, 347, 348, 349, 350, 351, 352, 353, 354, 355, 356, 357, 358, 359, 360, 361, 362, 363, 364, 365, 366, 367, 368, 369, 370, 371, 372, 373, 374, 375, 376, 377, 378, 379, 380, 381, 382, 383, 384, 385, 386, 387, 388, 389, 390, 391, 392, 393, 394, 395, 396, 397, 398, 399, 400, 401, 402, 403, 404, 405, 406, 407, 408, 409, 410, 411, 412, 413, 414, 415, 416, 417, 418, 419, 420, 421, 422, 423, 424, 425, 426, 427, 428, 429, 430, 431, 432, 433, 434, 435, 436, 437, 438, 439, 440, 441, 442, 443, 444, 445, 446, 447, 448, 449, 450, 451, 452, 453, 454, 455, 456, 457, 458, 459, 460, 461, 462, 463, 464, 465, 466, 467, 468, 469, 470, 471, 472, 473, 474, 475, 476, 477, 478, 479, 480, 481, 482, 483, 484, 485, 486, 487, 488, 489, 490, 491, 492, 493, 494, 495, 496, 497, 498, 499, 500, 501, 502, 503, 504, 505, 506, 507, 508, 509, 510, 511, 512, 513, 514, 515, 516, 517, 518, 519, 520, 521, 522, 523, 524, 525, 526, 527, 528, 529, 530, 531, 532, 533, 534, 535, 536, 537, 538, 539, 540, 541, 542, 543, 544, 545, 546, 547, 548, 549, 550, 551, 552, 553, 554, 555, 556, 557, 558, 559, 560, 561, 562, 563, 564, 565, 566, 567, 568, 569, 570, 571, 572, 573, 574, 575, 576, 577, 578, 579, 580, 581, 582, 583, 584, 585, 586, 587, 588, 589, 590, 591, 592, 593, 594, 595, 596, 597, 598, 599, 600, 601, 602, 603, 604, 605, 606, 607, 608, 609, 610, 611, 612, 613, 614, 615, 616, 617, 618, 619, 620, 621, 622, 623, 624, 625, 626, 627, 628, 629, 630, 631, 632, 633, 634, 635, 636, 637, 638, 639, 640, 641, 642, 643, 644, 645, 646, 647, 648, 649, 650, 651, 652, 653, 654, 655, 656, 657, 658, 659, 660, 661, 662, 663, 664, 665, 666, 667, 668, 669, 670, 671, 672, 673, 674, 675, 676, 677, 678, 679, 680, 681, 682, 683, 684, 685, 686, 687, 688, 689, 690, 691, 692, 693, 694, 695, 696, 697, 698, 699, 700, 701, 702, 703, 704, 705, 706, 707, 708, 709, 710, 711, 712, 713, 714, 715, 716, 717, 718, 719, 720, 721, 722, 723, 724, 725, 726, 727, 728, 729, 730, 731, 732, 733, 734, 735, 736, 737, 738, 739, 740, 741, 742, 743, 744, 745, 746, 747, 748, 749, 750, 751, 752, 753, 754, 755, 756, 757, 758, 759, 760, 761, 762, 763, 764, 765, 766, 767, 768, 769, 770, 771, 772, 773, 774, 775, 776, 777, 778, 779, 780, 781, 782, 783, 784, 785, 786, 787, 788, 789, 790, 791, 792, 793, 794, 795, 796, 797, 798, 799, 800, 801, 802, 803, 804, 805, 806, 807, 808, 809, 810, 811, 812, 813, 814, 815, 816, 817, 818, 819, 820, 821, 822, 823, 824, 825, 826, 827, 828, 829, 830, 831, 832, 833, 834, 835, 836, 837, 838, 839, 840, 841, 842, 843, 844, 845, 846, 847, 848, 849, 850, 851, 852, 853, 854, 855, 856, 857, 858, 859, 860, 861, 862, 863, 864, 865, 866, 867, 868, 869, 870, 871, 872, 873, 874, 875, 876, 877, 878, 879, 880, 881, 882, 883, 884, 885, 886, 887, 888, 889, 890, 891, 892, 893, 894, 895, 896, 897, 898, 899, 900, 901, 902, 903, 904, 905, 906, 907, 908, 909, 910, 911, 912, 913, 914, 915, 916, 917, 918, 919, 920, 921, 922, 923, 924, 925, 926, 927, 928, 929, 930, 931, 932, 933, 934, 935, 936, 937, 938, 939, 940, 941, 942, 943, 944, 945, 946, 947, 948, 949, 950, 951, 952, 953, 954, 955, 956, 957, 958, 959, 960, 961, 962, 963, 964, 965, 966, 967, 968, 969, 970, 971, 972, 973, 974, 975, 976, 977, 978, 979, 980, 981, 982, 983, 984, 985, 986, 987, 988, 989, 990, 991, 992, 993, 994, 995, 996, 997, 998, 999, 1000, 1001, 1002, 1003, 1004, 1005, 1006, 1007, 1008, 1009, 1010, 1011, 1013, 1024, 1025, 1026, 1027, 1028, 1029, 1030, 1031, 1032, 1033, 1034, 1035, 1036, 1063, 1064, 1065, 1066, 1067, 1068, 1069, 1070, 1071, 1072, 1073, 1074, 1075, 1076, 1077, 1078, 1079, 1080, 1081, 1082, 1083, 1084, 1085, 1086, 1087, 1088, 1089, 1090, 1091, 1092, 1093, 1094, 1095, 1096, 1097, 1098, 1099, 1100, 1101, 1102, 1103, 1104, 1105, 1106, 1107, 1108, 1109, 1110, 1111, 1112, 1113, 1114, 1115, 1116, 1117, 1118, 1119, 1120, 1121, 1122, 1123, 1124, 1125, 1126, 1127, 1128, 1129, 1130, 1131, 1132, 1133, 1134, 1135, 1136, 1137, 1138, 1139, 1140, 1141, 1142, 1143, 1144, 1145, 1146, 1147, 1148, 1149, 1150, 1151, 1152, 1153, 1154, 1155, 1156, 1157, 1158, 1159, 1160, 1161, 1162, 1163, 1164, 1165, 1166, 1167, 1168, 1169, 1170, 1171, 1172, 1173, 1174, 1175, 1176, 1177, 1178, 1179, 1180, 1181, 1182, 1183, 1184, 1185, 1186, 1187, 1188, 1189, 1190, 1191, 1192, 1193, 1194, 1195, 1196, 1197, 1198, 1199, 1200, 1201, 1202, 1203, 1204, 1205, 1206, 1207, 1208, 1209, 1210, 1211, 1212, 1213, 1214, 1215, 1216, 1217, 1218, 1219, 1220, 1221, 1222, 1223, 1224, 1225, 1226, 1227, 1228, 1229, 1230, 1231, 1232, 1233, 1234, 1235, 1236, 1237, 1238, 1239, 1240, 1241, 1242, 1243, 1244, 1245, 1246, 1247, 1248, 1249, 1250, 1251, 1252, 1253, 1254, 1255, 1256, 1257, 1258, 1259, 1260, 1261, 1262, 1263, 1264, 1265, 1266, 1267, 1268, 1269, 1270, 1271, 1272, 1273, 1274, 1275, 1276, 1277, 1278, 1279, 1280, 1281, 1282, 1283, 1284, 1285, 1286, 1287, 1288, 1289, 1290, 1291, 1292, 1293, 1294, 1295, 1296, 1297, 1298, 1299, 1300, 1301, 1302, 1303, 1304, 1305, 1306, 1307, 1308, 1309, 1310, 1311, 1312, 1313, 1314, 1315, 1316, 1317, 1318, 1319, 1320, 1321, 1322, 1323, 1324, 1325, 1326, 1327, 1328, 1329, 1330, 1331, 1332, 1333, 1334, 1335, 1336, 1337, 1338, 1339, 1340, 1341, 1342, 1343, 1344, 1345, 1346, 1347, 1348, 1349, 1350, 1351, 1352, 1353, 1354, 1355, 1356, 1357, 1358, 1359, 1360, 1361, 1362, 1363, 1364, 1365, 1366, 1367, 1368, 1369, 1370, 1371, 1372, 1373, 1374, 1375, 1376, 1377, 1378, 1379, 1380, 1381, 1382, 1383, 1384, 1385, 1386, 1387, 1388, 1389, 1390, 1391, 1392, 1393, 1394, 1395, 1396, 1397, 1398, 1399, 1400, 1401, 1402, 1403, 1404, 1405, 1406, 1407, 1408, 1409, 1410, 1411, 1412, 1413, 1414, 1415, 1416, 1417, 1418, 1419, 1420, 1421, 1422, 1423, 1424, 1425, 1426, 1427, 1428, 1429, 1430, 1431, 1432, 1433, 1434, 1435, 1436, 1437, 1438, 1439, 1440, 1441, 1442, 1443, 1444, 1445, 1446, 1447, 1448, 1449, 1450, 1451, 1452, 1453, 1454, 1455, 1456, 1457, 1458, 1459, 1460, 1461, 1462, 1463, 1464, 1465, 1466, 1467, 1468, 1469, 1470, 1471, 1472, 1473, 1474, 1475, 1476, 1477, 1478, 1479, 1480, 1481, 1482, 1483, 1484, 1485, 1486, 1487, 1488, 1489, 1490, 1491, 1492, 1493, 1494, 1495, 1496, 1497, 1498, 1499, 1500, 1501, 1502, 1503, 1504, 1505, 1506, 1507, 1508, 1509, 1510, 1511, 1512, 1513, 1514, 1515, 1516, 1517, 1518, 1519, 1520, 1521, 1522, 1523, 1524, 1525, 1526, 1527, 1528, 1529, 1530, 1531, 1532, 1533, 1534, 1535, 1536, 1537, 1538, 1539, 1540, 1541, 1542, 1543, 1544, 1545, 1546, 1547, 1548, 1549, 1550, 1551, 1552, 1553, 1554, 1555, 1556, 1557, 1558, 1559, 1560, 1561, 1562, 1563, 1564, 1565, 1566, 1567, 1568, 1569, 1570, 1571, 1572, 1573, 1574, 1575, 1576, 1577, 1578, 1579, 1580, 1581, 1582, 1583, 1584, 1585, 1586, 1587, 1588, 1589, 1590, 1591, 1592, 1593, 1594, 1595, 1596, 1597, 1598, 1599, 1600, 1601, 1602, 1603, 1604, 1605, 1606, 1607, 1608, 1609, 1610, 1611, 1612, 1613, 1614, 1615, 1616, 1617, 1618, 1619, 1620, 1621, 1622, 1623, 1624, 1625, 1626, 1627, 1628, 1629, 1630, 1631, 1632, 1633, 1634, 1635, 1636, 1637, 1638, 1639, 1640, 1641, 1642, 1643, 1644, 1645, 1646, 1647, 1648, 1649, 1650, 1651, 1652, 1653, 1654, 1655, 1656, 1657, 1658, 1659, 1660, 1661, 1662, 1663, 1664, 1665, 1666, 1667, 1668, 1669, 1670, 1671, 1672, 1673, 1674, 1675, 1676, 1677, 1678, 1679, 1680, 1681, 1682, 1683, 1684, 1685, 1686, 1687, 1688, 1689, 1690, 1691, 1692, 1693, 1694, 1695, 1696, 1697, 1698, 1699, 1700, 1701, 1702, 1703, 1704, 1705, 1706, 1707, 1708, 1709, 1710, 1711, 1712, 1713, 1714, 1715, 1716, 1717, 1718, 1719, 1720, 1721, 1722, 1723, 1724, 1725, 1726, 1727, 1728, 1729, 1730, 1731, 1732, 1733, 1734, 1735, 1736, 1737, 1738, 1739, 1740, 1741, 1742, 1743, 1744, 1745, 1746, 1747, 1748, 1749, 1750, 1751, 1752, 1753, 1754, 1755, 1756, 1757, 1758, 1759, 1760, 1761, 1762, 1763, 1764, 1765, 1766, 1767, 1768, 1769, 1770, 1771, 1772, 1773, 1774, 1775, 1776, 1777, 1778, 1779, 1780, 1781, 1782, 1783, 1784, 1785, 1786, 1787, 1788, 1789, 1790, 1791, 1792, 1793, 1794, 1795, 1796, 1797, 1798, 1799, 1800, 1801, 1802, 1803, 1804, 1805, 1806, 1807, 1808, 1809, 1810, 1811, 1812, 1813, 1814, 1815, 1816, 1817, 1818, 1819, 1820, 1821, 1822, 1823, 1824, 1825, 1826, 1827, 1828, 1829, 1830, 1831, 1832, 1833, 1834, 1835, 1836, 1837, 1838, 1839, 1840, 1841, 1842, 1843, 1844, 1845, 1846, 1847, 1848, 1849, 1850, 1851, 1852, 1853, 1854, 1855, 1856, 1857, 1858, 1859, 1860, 1861, 1862, 1863, 1864, 1865, 1866, 1867, 1868, 1869, 1870, 1871, 1872, 1873, 1874, 1875, 1876, 1877, 1878, 1879, 1880, 1881, 1882, 1883, 1884, 1885, 1886, 1887, 1888, 1889, 1890, 1891, 1892, 1893, 1894, 1895, 1896, 1897, 1898, 1899, 1900, 1901, 1902, 1903, 1904, 1905, 1906, 1907, 1908, 1909, 1910, 1911, 1912, 1913, 1914, 1915, 1916, 1917, 1918, 1919, 1920, 1921, 1922, 1923, 1924, 1925, 1926, 1927, 1928, 1929, 1930, 1931, 1932, 1933, 1934, 1935, 1936, 1937, 1938, 1939, 1940, 1941, 1942, 1943, 1944, 1945, 1946, 1947, 1948, 1949, 1950, 1951, 1952, 1953, 1954, 1955, 1956, 1957, 1958, 1959, 1960, 1961, 1962, 1963, 1964, 1965, 1966, 1967, 1968, 1969, 1970, 1971, 1972, 1973, 1974, 1975, 1976, 1977, 1978, 1979, 1980, 1981, 1982, 1983, 1984, 1985, 1986, 1987, 1988, 1990, 1991, 1992, 1993, 1994, 1995, 1014, 1015, 1016, 1017, 1018, 1019, 1020, 1021, 1022, 1023, 1082, 1083, 1088, 1536, 1538, 1539, 1540, 1541, 1542, 1543, 1547, 1548, 1549, 1550, 1551, 1552, 1553, 1554, 1555, 1556, 2184, 2199, 2230, 2249, 2260, 2262, 2263, 2268, 2286, 2289, 2294, 2297, 2321, 2322, 2324, 2325, 2340, 2355, 2382, 2384, 2385, 2403, 2410, 2418, 2423, 2432, 2456, 2459, 2484, 2494, 2526, 2531, 2538, 2539, 2541, 2570, 2603, 2639, 2654, 2656, 2676, 2687, 2722, 2727, 2753, 2756, 2760, 2786, 2807, 2826, 2857, 2861, 2871, 2889, 2901, 2960, 2997, 3055, 3069, 3106, 3118, 3150, 3156, 3172, 3196, 3245, 3261, 3263, 3285, 3299, 3301, 3326, 3339, 3355, 3359, 3380, 3381, 3386, 3411, 3429, 3438, 3440, 3476, 3486, 3515, 3546, 3547, 3551, 3590, 3624, 3646, 3699, 3705, 3758, 3770, 3777, 3826, 3838, 3845, 3851, 3874, 3878, 3882, 3890, 3912, 3918, 3925, 3938, 3943, 3963, 3982, 3998, 3999, 4002, 4006, 4008, 4029, 4051, 4052, 4085, 4090, 4131, 4185, 4229, 4260, 4261, 4266, 4271, 4278, 4293, 4347, 4413, 4437, 4444, 4464, 4466, 4479, 4529, 4537, 4554, 4579, 4583, 4585, 4601, 4612, 4662, 4673, 4700, 4720, 4724, 4739, 4749, 4764, 4798, 4805, 4814, 4849, 4868, 4878, 4881, 4885, 4891, 4927, 4936, 4947, 4976, 5018, 5124, 5139, 5141, 5174, 5179, 5184, 5187, 5316, 5345, 5354, 5385, 5388, 5401, 5497, 5511, 5518, 5528, 5539, 5556, 5585, 5594, 5641, 5692, 5709, 5718, 5757, 5764, 5774, 5775, 5778, 5786, 5818, 5824, 5840, 5890, 5986, 5989, 6021, 6036, 6068, 6070, 6079, 6109, 6146, 6163, 6166, 6185, 6191, 6193, 6205, 6227, 6255, 6273, 6275, 6282, 6301, 6306, 6347, 6352, 6353, 6356, 6365, 6390, 6391, 6421, 6445, 6478, 6486, 6489, 6527, 6535, 6539, 6564, 6571, 6584, 6607, 6640, 6690, 6694, 6717, 6725, 6756, 6837, 6863, 6889, 6899, 6929, 6940, 6988, 7005, 7131, 7257, 7261, 7287, 7313, 7326, 7428, 7449, 7466, 7517, 7557, 7558, 7572, 7582, 7586, 7612, 7647, 7706, 7845, 7886, 7973, 7993, 8148, 8165, 8204, 8380, 8421, 8492, 8517, 8574, 8698, 8708, 8732, 8746, 8784, 8792, 8905, 8933, 9037, 9176, 9244, 9402, 9475, 9500, 9512, 9645, 9683, 9713, 9730, 9800, 9807, 9840, 9842, 9931, 10008, 10011, 10075, 10081, 10114, 10150, 10212, 10332, 10347, 10476, 10545, 10550, 10630, 10679, 10700, 10715, 10894, 10937, 10977, 11040, 11102, 11118, 11176, 11212, 11384, 11502, 11517, 11518, 11523, 11617, 11723, 11786, 11816, 11827, 11899, 11910, 11931, 12094, 12104, 12169, 12307, 12309, 12357, 12387, 12410, 12457, 12518, 12522, 12529, 12552, 12567, 12606, 12609, 12651, 12861, 12862, 12875, 12904, 12963, 13029, 13036, 13040, 13086, 13092, 13126, 13138, 13140, 13199, 13206, 13274, 13285, 13393, 13397, 13412, 13414, 13427, 13509, 13515, 13539, 13710, 13739, 13741, 13756, 13757, 13839, 13885, 13913, 13963, 14010, 14078, 14112, 14168, 14210, 14276, 14362, 14378, 14506, 14677, 14748, 14840, 14883, 14989, 14993, 15017, 15028, 15051, 15170, 15331, 15376, 15407, 15471, 15622, 15678, 16029, 16057, 16065, 16087, 16144, 16202, 16327, 16331, 16333, 16345, 16444, 16459, 16471, 16496, 16528, 16601, 16621, 16666, 16710, 16734, 16785, 16788, 16798, 16832, 16890, 16923, 17014, 17196, 17222, 17262, 17267, 17273, 17295, 17317, 17332, 17365, 17403, 17405, 17422, 17436, 17442, 17483, 17528, 17593, 17613, 17616, 17691, 17696, 17711, 17825, 17832, 17867, 17943, 17954, 18034, 18118, 18164, 18171, 18225, 18253, 18432, 18512, 18540, 18561, 18582, 18596, 18610, 18677, 18744, 18914, 19015, 19096, 19121, 19123, 19151, 19235, 19289, 19342, 19348, 19410, 19446, 19492, 19527, 19540, 19594, 19609, 19611, 19627, 19652, 19681, 19711, 19714, 19793, 19827, 19843, 19871, 19883, 19916, 19936, 19955, 19975, 19984, 19988, 19989, 20003, 20024, 20035, 20143, 20263, 20294, 20304, 20311, 20317, 20335, 20405, 20500, 20549, 20636, 20637, 20652, 20663, 20666, 20708, 20713, 20741, 20797, 20802, 20827, 20982, 21005, 21035, 21036, 21064, 21211, 21267, 21364, 21410, 21417, 21488, 21489, 21502, 21533, 21611, 21667, 21679, 21757, 21777, 21809, 21875, 21950, 22018, 22030, 22060, 22061, 22096, 22115, 22234, 22238, 22288, 22343, 22370, 22376, 22431, 22533, 22582, 22593, 22606, 22621, 22649, 22685, 22777, 22810, 22857, 22884, 22898, 22904, 22955, 22997, 23090, 23254, 23272, 23285, 23297, 23380, 23475, 23477, 23523, 23532, 23535, 23593, 23609, 23612, 23628, 23688, 23712, 23768, 23785, 23810, 23841, 23859, 23908, 23944, 23980, 23988, 24030, 24046, 24061, 24082, 24125, 24194, 24231, 24232, 24259, 24368, 24398, 24406, 24426, 24429, 24440, 24441, 24445, 24507, 24522, 24559, 24568, 24621, 24622, 24643, 24673, 24690, 24704, 24709, 24736, 24765, 24837, 24841, 24902, 24921, 24994, 25029, 25048, 25053, 25103, 25108, 25113, 25143, 25162, 25186, 25191, 25195, 25241, 25246, 25256, 25280, 25350, 25371, 25374, 25392, 25491, 25504, 25534, 25535, 25578, 25586, 25604, 25615, 25621, 25625, 25651, 25682, 25702, 25704, 25717, 25745, 25797, 25800, 25801, 25833, 25846, 25873, 25897, 25909, 25926, 25961, 26059, 26063, 26081, 26231, 26245, 26253, 26257, 26263, 26267, 26271, 26423, 26499, 26538, 26621, 26628, 26637, 26667, 26689, 26738, 26776, 26833, 26839, 26871, 26953, 26963, 26995, 27003, 27016, 27037, 27054, 27173, 27194, 27200, 27230, 27234, 27240, 27253, 27337, 27367, 27407, 27414, 27426, 27433, 27445, 27497, 27502, 27509, 27517, 27519, 27525, 27533, 27536, 27582, 27643, 27658, 27671, 27676, 27689, 27743, 27769, 27810, 27878, 27882, 27908, 27924, 27954, 28004, 28009, 28015, 28048, 28058, 28066, 28122, 28133, 28135, 28161, 28162, 28188, 28192, 28196, 28202, 28203, 28204, 28216, 28245, 28278, 28288, 28342, 28358, 28366, 28434, 28438, 28446, 28449, 28455, 28460, 28469, 28474, 28485, 28489, 28502, 28531, 28601, 28622, 28627, 28690, 28707, 28714, 28718, 28754, 28769, 28783, 28818, 28853, 28864, 28881, 28906, 28941, 28944, 28952, 28955, 28977, 29016, 29029, 29056, 29065, 29077, 29140, 29185, 29186, 29269, 29302, 29309, 29326, 29327, 29335, 29359, 29386, 29403, 29478, 29541, 29562, 29567]\n",
            "1\n",
            "Cuda is not available.\n",
            "Device is -1\n"
          ]
        },
        {
          "output_type": "stream",
          "name": "stderr",
          "text": [
            "iter 1, The 1-th image: B,clip score 0.827: [CLS] image of a dead man inside. [SEP]\u001b[0m\n",
            "iter 1, The 1-th image: B,clip score 0.827: [CLS] image of a dead man inside. [SEP]\u001b[0m\n",
            "iter 1, The 1-th image: B,clip score 0.827: [CLS] image of a dead man inside. [SEP]\u001b[0m\n",
            "iter 1, The 1-th image: B,clip score 0.827: [CLS] image of a dead man inside. [SEP]\u001b[0m\n",
            "iter 1, The 1-th image: B,clip score 0.827: [CLS] image of a dead man inside. [SEP]\u001b[0m\n",
            "INFO:ConZIC:iter 1, The 1-th image: B,clip score 0.827: [CLS] image of a dead man inside. [SEP]\n",
            "Finished in 21.690s\u001b[0m\n",
            "Finished in 21.690s\u001b[0m\n",
            "Finished in 21.690s\u001b[0m\n",
            "Finished in 21.690s\u001b[0m\n",
            "Finished in 21.690s\u001b[0m\n",
            "INFO:ConZIC:Finished in 21.690s\n",
            "The 1-th image: B\u001b[0m\n",
            "The 1-th image: B\u001b[0m\n",
            "The 1-th image: B\u001b[0m\n",
            "The 1-th image: B\u001b[0m\n",
            "The 1-th image: B\u001b[0m\n",
            "INFO:ConZIC:The 1-th image: B\n",
            "final caption: image of a dead man inside.\u001b[0m\n",
            "final caption: image of a dead man inside.\u001b[0m\n",
            "final caption: image of a dead man inside.\u001b[0m\n",
            "final caption: image of a dead man inside.\u001b[0m\n",
            "final caption: image of a dead man inside.\u001b[0m\n",
            "INFO:ConZIC:final caption: image of a dead man inside.\n",
            "best caption: image of a dead man inside.\u001b[0m\n",
            "best caption: image of a dead man inside.\u001b[0m\n",
            "best caption: image of a dead man inside.\u001b[0m\n",
            "best caption: image of a dead man inside.\u001b[0m\n",
            "best caption: image of a dead man inside.\u001b[0m\n",
            "INFO:ConZIC:best caption: image of a dead man inside.\n",
            "DEBUG:urllib3.connectionpool:https://huggingface.co:443 \"HEAD /bert-base-uncased/resolve/main/config.json HTTP/1.1\" 200 0\n"
          ]
        },
        {
          "output_type": "stream",
          "name": "stdout",
          "text": [
            "Base caption:  a group of people posing for a picture\n",
            "Best caption:  image of a dead man inside.\n",
            "Final Caption:  image of a dead man inside.\n"
          ]
        },
        {
          "output_type": "stream",
          "name": "stderr",
          "text": [
            "Some weights of the model checkpoint at bert-base-uncased were not used when initializing BertForMaskedLM: ['cls.seq_relationship.bias', 'cls.seq_relationship.weight']\n",
            "- This IS expected if you are initializing BertForMaskedLM from the checkpoint of a model trained on another task or with another architecture (e.g. initializing a BertForSequenceClassification model from a BertForPreTraining model).\n",
            "- This IS NOT expected if you are initializing BertForMaskedLM from the checkpoint of a model that you expect to be exactly identical (initializing a BertForSequenceClassification model from a BertForSequenceClassification model).\n",
            "DEBUG:urllib3.connectionpool:https://huggingface.co:443 \"HEAD /bert-base-uncased/resolve/main/generation_config.json HTTP/1.1\" 404 0\n",
            "DEBUG:urllib3.connectionpool:https://huggingface.co:443 \"HEAD /bert-base-uncased/resolve/main/tokenizer_config.json HTTP/1.1\" 200 0\n",
            "DEBUG:urllib3.connectionpool:https://huggingface.co:443 \"HEAD /kakaobrain/align-base/resolve/main/config.json HTTP/1.1\" 200 0\n"
          ]
        },
        {
          "output_type": "stream",
          "name": "stdout",
          "text": [
            "Initializing ALIGN model...\n"
          ]
        },
        {
          "output_type": "stream",
          "name": "stderr",
          "text": [
            "DEBUG:urllib3.connectionpool:https://huggingface.co:443 \"HEAD /kakaobrain/align-base/resolve/main/preprocessor_config.json HTTP/1.1\" 200 0\n",
            "DEBUG:urllib3.connectionpool:https://huggingface.co:443 \"HEAD /kakaobrain/align-base/resolve/main/tokenizer_config.json HTTP/1.1\" 200 0\n",
            "DEBUG:urllib3.connectionpool:https://huggingface.co:443 \"HEAD /Salesforce/blip-image-captioning-base/resolve/main/preprocessor_config.json HTTP/1.1\" 200 0\n",
            "DEBUG:urllib3.connectionpool:https://huggingface.co:443 \"HEAD /Salesforce/blip-image-captioning-base/resolve/main/preprocessor_config.json HTTP/1.1\" 200 0\n"
          ]
        },
        {
          "output_type": "stream",
          "name": "stdout",
          "text": [
            "ALIGN model initialized.\n"
          ]
        },
        {
          "output_type": "stream",
          "name": "stderr",
          "text": [
            "DEBUG:urllib3.connectionpool:https://huggingface.co:443 \"HEAD /Salesforce/blip-image-captioning-base/resolve/main/preprocessor_config.json HTTP/1.1\" 200 0\n",
            "DEBUG:urllib3.connectionpool:https://huggingface.co:443 \"HEAD /Salesforce/blip-image-captioning-base/resolve/main/tokenizer_config.json HTTP/1.1\" 200 0\n",
            "DEBUG:urllib3.connectionpool:https://huggingface.co:443 \"HEAD /Salesforce/blip-image-captioning-base/resolve/main/config.json HTTP/1.1\" 200 0\n",
            "Processing: /content/drive/MyDrive/Colab Notebooks/VnCv2023/static/pictures/BGDA0025.JPG\u001b[0m\n",
            "Processing: /content/drive/MyDrive/Colab Notebooks/VnCv2023/static/pictures/BGDA0025.JPG\u001b[0m\n",
            "Processing: /content/drive/MyDrive/Colab Notebooks/VnCv2023/static/pictures/BGDA0025.JPG\u001b[0m\n",
            "Processing: /content/drive/MyDrive/Colab Notebooks/VnCv2023/static/pictures/BGDA0025.JPG\u001b[0m\n",
            "Processing: /content/drive/MyDrive/Colab Notebooks/VnCv2023/static/pictures/BGDA0025.JPG\u001b[0m\n",
            "INFO:ConZIC:Processing: /content/drive/MyDrive/Colab Notebooks/VnCv2023/static/pictures/BGDA0025.JPG\n",
            "Sample 0: \u001b[0m\n",
            "Sample 0: \u001b[0m\n",
            "Sample 0: \u001b[0m\n",
            "Sample 0: \u001b[0m\n",
            "Sample 0: \u001b[0m\n",
            "INFO:ConZIC:Sample 0: \n"
          ]
        },
        {
          "output_type": "stream",
          "name": "stdout",
          "text": [
            "[2133, 1, 2, 3, 4, 5, 6, 7, 8, 9, 10, 11, 12, 13, 14, 15, 16, 17, 18, 19, 20, 21, 22, 23, 24, 25, 26, 27, 28, 29, 30, 31, 32, 33, 34, 35, 36, 37, 38, 39, 40, 41, 42, 43, 44, 45, 46, 47, 48, 49, 50, 51, 52, 53, 54, 55, 56, 57, 58, 59, 60, 61, 62, 63, 64, 65, 66, 67, 68, 69, 70, 71, 72, 73, 74, 75, 76, 77, 78, 79, 80, 81, 82, 83, 84, 85, 86, 87, 88, 89, 90, 91, 92, 93, 94, 95, 96, 97, 98, 99, 104, 105, 106, 107, 108, 109, 110, 111, 112, 113, 114, 115, 116, 117, 118, 119, 120, 121, 122, 123, 124, 125, 126, 127, 128, 129, 130, 131, 132, 133, 134, 135, 136, 137, 138, 139, 140, 141, 142, 143, 144, 145, 146, 147, 148, 149, 150, 151, 152, 153, 154, 155, 156, 157, 158, 159, 160, 161, 162, 163, 164, 165, 166, 167, 168, 169, 170, 171, 172, 173, 174, 175, 176, 177, 178, 179, 180, 181, 182, 183, 184, 185, 186, 187, 188, 189, 190, 191, 192, 193, 194, 195, 196, 197, 198, 199, 200, 201, 202, 203, 204, 205, 206, 207, 208, 209, 210, 211, 212, 213, 214, 215, 216, 217, 218, 219, 220, 221, 222, 223, 224, 225, 226, 227, 228, 229, 230, 231, 232, 233, 234, 235, 236, 237, 238, 239, 240, 241, 242, 243, 244, 245, 246, 247, 248, 249, 250, 251, 252, 253, 254, 255, 256, 257, 258, 259, 260, 261, 262, 263, 264, 265, 266, 267, 268, 269, 270, 271, 272, 273, 274, 275, 276, 277, 278, 279, 280, 281, 282, 283, 284, 285, 286, 287, 288, 289, 290, 291, 292, 293, 294, 295, 296, 297, 298, 299, 300, 301, 302, 303, 304, 305, 306, 307, 308, 309, 310, 311, 312, 313, 314, 315, 316, 317, 318, 319, 320, 321, 322, 323, 324, 325, 326, 327, 328, 329, 330, 331, 332, 333, 334, 335, 336, 337, 338, 339, 340, 341, 342, 343, 344, 345, 346, 347, 348, 349, 350, 351, 352, 353, 354, 355, 356, 357, 358, 359, 360, 361, 362, 363, 364, 365, 366, 367, 368, 369, 370, 371, 372, 373, 374, 375, 376, 377, 378, 379, 380, 381, 382, 383, 384, 385, 386, 387, 388, 389, 390, 391, 392, 393, 394, 395, 396, 397, 398, 399, 400, 401, 402, 403, 404, 405, 406, 407, 408, 409, 410, 411, 412, 413, 414, 415, 416, 417, 418, 419, 420, 421, 422, 423, 424, 425, 426, 427, 428, 429, 430, 431, 432, 433, 434, 435, 436, 437, 438, 439, 440, 441, 442, 443, 444, 445, 446, 447, 448, 449, 450, 451, 452, 453, 454, 455, 456, 457, 458, 459, 460, 461, 462, 463, 464, 465, 466, 467, 468, 469, 470, 471, 472, 473, 474, 475, 476, 477, 478, 479, 480, 481, 482, 483, 484, 485, 486, 487, 488, 489, 490, 491, 492, 493, 494, 495, 496, 497, 498, 499, 500, 501, 502, 503, 504, 505, 506, 507, 508, 509, 510, 511, 512, 513, 514, 515, 516, 517, 518, 519, 520, 521, 522, 523, 524, 525, 526, 527, 528, 529, 530, 531, 532, 533, 534, 535, 536, 537, 538, 539, 540, 541, 542, 543, 544, 545, 546, 547, 548, 549, 550, 551, 552, 553, 554, 555, 556, 557, 558, 559, 560, 561, 562, 563, 564, 565, 566, 567, 568, 569, 570, 571, 572, 573, 574, 575, 576, 577, 578, 579, 580, 581, 582, 583, 584, 585, 586, 587, 588, 589, 590, 591, 592, 593, 594, 595, 596, 597, 598, 599, 600, 601, 602, 603, 604, 605, 606, 607, 608, 609, 610, 611, 612, 613, 614, 615, 616, 617, 618, 619, 620, 621, 622, 623, 624, 625, 626, 627, 628, 629, 630, 631, 632, 633, 634, 635, 636, 637, 638, 639, 640, 641, 642, 643, 644, 645, 646, 647, 648, 649, 650, 651, 652, 653, 654, 655, 656, 657, 658, 659, 660, 661, 662, 663, 664, 665, 666, 667, 668, 669, 670, 671, 672, 673, 674, 675, 676, 677, 678, 679, 680, 681, 682, 683, 684, 685, 686, 687, 688, 689, 690, 691, 692, 693, 694, 695, 696, 697, 698, 699, 700, 701, 702, 703, 704, 705, 706, 707, 708, 709, 710, 711, 712, 713, 714, 715, 716, 717, 718, 719, 720, 721, 722, 723, 724, 725, 726, 727, 728, 729, 730, 731, 732, 733, 734, 735, 736, 737, 738, 739, 740, 741, 742, 743, 744, 745, 746, 747, 748, 749, 750, 751, 752, 753, 754, 755, 756, 757, 758, 759, 760, 761, 762, 763, 764, 765, 766, 767, 768, 769, 770, 771, 772, 773, 774, 775, 776, 777, 778, 779, 780, 781, 782, 783, 784, 785, 786, 787, 788, 789, 790, 791, 792, 793, 794, 795, 796, 797, 798, 799, 800, 801, 802, 803, 804, 805, 806, 807, 808, 809, 810, 811, 812, 813, 814, 815, 816, 817, 818, 819, 820, 821, 822, 823, 824, 825, 826, 827, 828, 829, 830, 831, 832, 833, 834, 835, 836, 837, 838, 839, 840, 841, 842, 843, 844, 845, 846, 847, 848, 849, 850, 851, 852, 853, 854, 855, 856, 857, 858, 859, 860, 861, 862, 863, 864, 865, 866, 867, 868, 869, 870, 871, 872, 873, 874, 875, 876, 877, 878, 879, 880, 881, 882, 883, 884, 885, 886, 887, 888, 889, 890, 891, 892, 893, 894, 895, 896, 897, 898, 899, 900, 901, 902, 903, 904, 905, 906, 907, 908, 909, 910, 911, 912, 913, 914, 915, 916, 917, 918, 919, 920, 921, 922, 923, 924, 925, 926, 927, 928, 929, 930, 931, 932, 933, 934, 935, 936, 937, 938, 939, 940, 941, 942, 943, 944, 945, 946, 947, 948, 949, 950, 951, 952, 953, 954, 955, 956, 957, 958, 959, 960, 961, 962, 963, 964, 965, 966, 967, 968, 969, 970, 971, 972, 973, 974, 975, 976, 977, 978, 979, 980, 981, 982, 983, 984, 985, 986, 987, 988, 989, 990, 991, 992, 993, 994, 995, 996, 997, 998, 999, 1000, 1001, 1002, 1003, 1004, 1005, 1006, 1007, 1008, 1009, 1010, 1011, 1013, 1024, 1025, 1026, 1027, 1028, 1029, 1030, 1031, 1032, 1033, 1034, 1035, 1036, 1063, 1064, 1065, 1066, 1067, 1068, 1069, 1070, 1071, 1072, 1073, 1074, 1075, 1076, 1077, 1078, 1079, 1080, 1081, 1082, 1083, 1084, 1085, 1086, 1087, 1088, 1089, 1090, 1091, 1092, 1093, 1094, 1095, 1096, 1097, 1098, 1099, 1100, 1101, 1102, 1103, 1104, 1105, 1106, 1107, 1108, 1109, 1110, 1111, 1112, 1113, 1114, 1115, 1116, 1117, 1118, 1119, 1120, 1121, 1122, 1123, 1124, 1125, 1126, 1127, 1128, 1129, 1130, 1131, 1132, 1133, 1134, 1135, 1136, 1137, 1138, 1139, 1140, 1141, 1142, 1143, 1144, 1145, 1146, 1147, 1148, 1149, 1150, 1151, 1152, 1153, 1154, 1155, 1156, 1157, 1158, 1159, 1160, 1161, 1162, 1163, 1164, 1165, 1166, 1167, 1168, 1169, 1170, 1171, 1172, 1173, 1174, 1175, 1176, 1177, 1178, 1179, 1180, 1181, 1182, 1183, 1184, 1185, 1186, 1187, 1188, 1189, 1190, 1191, 1192, 1193, 1194, 1195, 1196, 1197, 1198, 1199, 1200, 1201, 1202, 1203, 1204, 1205, 1206, 1207, 1208, 1209, 1210, 1211, 1212, 1213, 1214, 1215, 1216, 1217, 1218, 1219, 1220, 1221, 1222, 1223, 1224, 1225, 1226, 1227, 1228, 1229, 1230, 1231, 1232, 1233, 1234, 1235, 1236, 1237, 1238, 1239, 1240, 1241, 1242, 1243, 1244, 1245, 1246, 1247, 1248, 1249, 1250, 1251, 1252, 1253, 1254, 1255, 1256, 1257, 1258, 1259, 1260, 1261, 1262, 1263, 1264, 1265, 1266, 1267, 1268, 1269, 1270, 1271, 1272, 1273, 1274, 1275, 1276, 1277, 1278, 1279, 1280, 1281, 1282, 1283, 1284, 1285, 1286, 1287, 1288, 1289, 1290, 1291, 1292, 1293, 1294, 1295, 1296, 1297, 1298, 1299, 1300, 1301, 1302, 1303, 1304, 1305, 1306, 1307, 1308, 1309, 1310, 1311, 1312, 1313, 1314, 1315, 1316, 1317, 1318, 1319, 1320, 1321, 1322, 1323, 1324, 1325, 1326, 1327, 1328, 1329, 1330, 1331, 1332, 1333, 1334, 1335, 1336, 1337, 1338, 1339, 1340, 1341, 1342, 1343, 1344, 1345, 1346, 1347, 1348, 1349, 1350, 1351, 1352, 1353, 1354, 1355, 1356, 1357, 1358, 1359, 1360, 1361, 1362, 1363, 1364, 1365, 1366, 1367, 1368, 1369, 1370, 1371, 1372, 1373, 1374, 1375, 1376, 1377, 1378, 1379, 1380, 1381, 1382, 1383, 1384, 1385, 1386, 1387, 1388, 1389, 1390, 1391, 1392, 1393, 1394, 1395, 1396, 1397, 1398, 1399, 1400, 1401, 1402, 1403, 1404, 1405, 1406, 1407, 1408, 1409, 1410, 1411, 1412, 1413, 1414, 1415, 1416, 1417, 1418, 1419, 1420, 1421, 1422, 1423, 1424, 1425, 1426, 1427, 1428, 1429, 1430, 1431, 1432, 1433, 1434, 1435, 1436, 1437, 1438, 1439, 1440, 1441, 1442, 1443, 1444, 1445, 1446, 1447, 1448, 1449, 1450, 1451, 1452, 1453, 1454, 1455, 1456, 1457, 1458, 1459, 1460, 1461, 1462, 1463, 1464, 1465, 1466, 1467, 1468, 1469, 1470, 1471, 1472, 1473, 1474, 1475, 1476, 1477, 1478, 1479, 1480, 1481, 1482, 1483, 1484, 1485, 1486, 1487, 1488, 1489, 1490, 1491, 1492, 1493, 1494, 1495, 1496, 1497, 1498, 1499, 1500, 1501, 1502, 1503, 1504, 1505, 1506, 1507, 1508, 1509, 1510, 1511, 1512, 1513, 1514, 1515, 1516, 1517, 1518, 1519, 1520, 1521, 1522, 1523, 1524, 1525, 1526, 1527, 1528, 1529, 1530, 1531, 1532, 1533, 1534, 1535, 1536, 1537, 1538, 1539, 1540, 1541, 1542, 1543, 1544, 1545, 1546, 1547, 1548, 1549, 1550, 1551, 1552, 1553, 1554, 1555, 1556, 1557, 1558, 1559, 1560, 1561, 1562, 1563, 1564, 1565, 1566, 1567, 1568, 1569, 1570, 1571, 1572, 1573, 1574, 1575, 1576, 1577, 1578, 1579, 1580, 1581, 1582, 1583, 1584, 1585, 1586, 1587, 1588, 1589, 1590, 1591, 1592, 1593, 1594, 1595, 1596, 1597, 1598, 1599, 1600, 1601, 1602, 1603, 1604, 1605, 1606, 1607, 1608, 1609, 1610, 1611, 1612, 1613, 1614, 1615, 1616, 1617, 1618, 1619, 1620, 1621, 1622, 1623, 1624, 1625, 1626, 1627, 1628, 1629, 1630, 1631, 1632, 1633, 1634, 1635, 1636, 1637, 1638, 1639, 1640, 1641, 1642, 1643, 1644, 1645, 1646, 1647, 1648, 1649, 1650, 1651, 1652, 1653, 1654, 1655, 1656, 1657, 1658, 1659, 1660, 1661, 1662, 1663, 1664, 1665, 1666, 1667, 1668, 1669, 1670, 1671, 1672, 1673, 1674, 1675, 1676, 1677, 1678, 1679, 1680, 1681, 1682, 1683, 1684, 1685, 1686, 1687, 1688, 1689, 1690, 1691, 1692, 1693, 1694, 1695, 1696, 1697, 1698, 1699, 1700, 1701, 1702, 1703, 1704, 1705, 1706, 1707, 1708, 1709, 1710, 1711, 1712, 1713, 1714, 1715, 1716, 1717, 1718, 1719, 1720, 1721, 1722, 1723, 1724, 1725, 1726, 1727, 1728, 1729, 1730, 1731, 1732, 1733, 1734, 1735, 1736, 1737, 1738, 1739, 1740, 1741, 1742, 1743, 1744, 1745, 1746, 1747, 1748, 1749, 1750, 1751, 1752, 1753, 1754, 1755, 1756, 1757, 1758, 1759, 1760, 1761, 1762, 1763, 1764, 1765, 1766, 1767, 1768, 1769, 1770, 1771, 1772, 1773, 1774, 1775, 1776, 1777, 1778, 1779, 1780, 1781, 1782, 1783, 1784, 1785, 1786, 1787, 1788, 1789, 1790, 1791, 1792, 1793, 1794, 1795, 1796, 1797, 1798, 1799, 1800, 1801, 1802, 1803, 1804, 1805, 1806, 1807, 1808, 1809, 1810, 1811, 1812, 1813, 1814, 1815, 1816, 1817, 1818, 1819, 1820, 1821, 1822, 1823, 1824, 1825, 1826, 1827, 1828, 1829, 1830, 1831, 1832, 1833, 1834, 1835, 1836, 1837, 1838, 1839, 1840, 1841, 1842, 1843, 1844, 1845, 1846, 1847, 1848, 1849, 1850, 1851, 1852, 1853, 1854, 1855, 1856, 1857, 1858, 1859, 1860, 1861, 1862, 1863, 1864, 1865, 1866, 1867, 1868, 1869, 1870, 1871, 1872, 1873, 1874, 1875, 1876, 1877, 1878, 1879, 1880, 1881, 1882, 1883, 1884, 1885, 1886, 1887, 1888, 1889, 1890, 1891, 1892, 1893, 1894, 1895, 1896, 1897, 1898, 1899, 1900, 1901, 1902, 1903, 1904, 1905, 1906, 1907, 1908, 1909, 1910, 1911, 1912, 1913, 1914, 1915, 1916, 1917, 1918, 1919, 1920, 1921, 1922, 1923, 1924, 1925, 1926, 1927, 1928, 1929, 1930, 1931, 1932, 1933, 1934, 1935, 1936, 1937, 1938, 1939, 1940, 1941, 1942, 1943, 1944, 1945, 1946, 1947, 1948, 1949, 1950, 1951, 1952, 1953, 1954, 1955, 1956, 1957, 1958, 1959, 1960, 1961, 1962, 1963, 1964, 1965, 1966, 1967, 1968, 1969, 1970, 1971, 1972, 1973, 1974, 1975, 1976, 1977, 1978, 1979, 1980, 1981, 1982, 1983, 1984, 1985, 1986, 1987, 1988, 1990, 1991, 1992, 1993, 1994, 1995, 1014, 1015, 1016, 1017, 1018, 1019, 1020, 1021, 1022, 1023, 1082, 1083, 1088, 1536, 1538, 1539, 1540, 1541, 1542, 1543, 1547, 1548, 1549, 1550, 1551, 1552, 1553, 1554, 1555, 1556, 2184, 2199, 2230, 2249, 2260, 2262, 2263, 2268, 2286, 2289, 2294, 2297, 2321, 2322, 2324, 2325, 2340, 2355, 2382, 2384, 2385, 2403, 2410, 2418, 2423, 2432, 2456, 2459, 2484, 2494, 2526, 2531, 2538, 2539, 2541, 2570, 2603, 2639, 2654, 2656, 2676, 2687, 2722, 2727, 2753, 2756, 2760, 2786, 2807, 2826, 2857, 2861, 2871, 2889, 2901, 2960, 2997, 3055, 3069, 3106, 3118, 3150, 3156, 3172, 3196, 3245, 3261, 3263, 3285, 3299, 3301, 3326, 3339, 3355, 3359, 3380, 3381, 3386, 3411, 3429, 3438, 3440, 3476, 3486, 3515, 3546, 3547, 3551, 3590, 3624, 3646, 3699, 3705, 3758, 3770, 3777, 3826, 3838, 3845, 3851, 3874, 3878, 3882, 3890, 3912, 3918, 3925, 3938, 3943, 3963, 3982, 3998, 3999, 4002, 4006, 4008, 4029, 4051, 4052, 4085, 4090, 4131, 4185, 4229, 4260, 4261, 4266, 4271, 4278, 4293, 4347, 4413, 4437, 4444, 4464, 4466, 4479, 4529, 4537, 4554, 4579, 4583, 4585, 4601, 4612, 4662, 4673, 4700, 4720, 4724, 4739, 4749, 4764, 4798, 4805, 4814, 4849, 4868, 4878, 4881, 4885, 4891, 4927, 4936, 4947, 4976, 5018, 5124, 5139, 5141, 5174, 5179, 5184, 5187, 5316, 5345, 5354, 5385, 5388, 5401, 5497, 5511, 5518, 5528, 5539, 5556, 5585, 5594, 5641, 5692, 5709, 5718, 5757, 5764, 5774, 5775, 5778, 5786, 5818, 5824, 5840, 5890, 5986, 5989, 6021, 6036, 6068, 6070, 6079, 6109, 6146, 6163, 6166, 6185, 6191, 6193, 6205, 6227, 6255, 6273, 6275, 6282, 6301, 6306, 6347, 6352, 6353, 6356, 6365, 6390, 6391, 6421, 6445, 6478, 6486, 6489, 6527, 6535, 6539, 6564, 6571, 6584, 6607, 6640, 6690, 6694, 6717, 6725, 6756, 6837, 6863, 6889, 6899, 6929, 6940, 6988, 7005, 7131, 7257, 7261, 7287, 7313, 7326, 7428, 7449, 7466, 7517, 7557, 7558, 7572, 7582, 7586, 7612, 7647, 7706, 7845, 7886, 7973, 7993, 8148, 8165, 8204, 8380, 8421, 8492, 8517, 8574, 8698, 8708, 8732, 8746, 8784, 8792, 8905, 8933, 9037, 9176, 9244, 9402, 9475, 9500, 9512, 9645, 9683, 9713, 9730, 9800, 9807, 9840, 9842, 9931, 10008, 10011, 10075, 10081, 10114, 10150, 10212, 10332, 10347, 10476, 10545, 10550, 10630, 10679, 10700, 10715, 10894, 10937, 10977, 11040, 11102, 11118, 11176, 11212, 11384, 11502, 11517, 11518, 11523, 11617, 11723, 11786, 11816, 11827, 11899, 11910, 11931, 12094, 12104, 12169, 12307, 12309, 12357, 12387, 12410, 12457, 12518, 12522, 12529, 12552, 12567, 12606, 12609, 12651, 12861, 12862, 12875, 12904, 12963, 13029, 13036, 13040, 13086, 13092, 13126, 13138, 13140, 13199, 13206, 13274, 13285, 13393, 13397, 13412, 13414, 13427, 13509, 13515, 13539, 13710, 13739, 13741, 13756, 13757, 13839, 13885, 13913, 13963, 14010, 14078, 14112, 14168, 14210, 14276, 14362, 14378, 14506, 14677, 14748, 14840, 14883, 14989, 14993, 15017, 15028, 15051, 15170, 15331, 15376, 15407, 15471, 15622, 15678, 16029, 16057, 16065, 16087, 16144, 16202, 16327, 16331, 16333, 16345, 16444, 16459, 16471, 16496, 16528, 16601, 16621, 16666, 16710, 16734, 16785, 16788, 16798, 16832, 16890, 16923, 17014, 17196, 17222, 17262, 17267, 17273, 17295, 17317, 17332, 17365, 17403, 17405, 17422, 17436, 17442, 17483, 17528, 17593, 17613, 17616, 17691, 17696, 17711, 17825, 17832, 17867, 17943, 17954, 18034, 18118, 18164, 18171, 18225, 18253, 18432, 18512, 18540, 18561, 18582, 18596, 18610, 18677, 18744, 18914, 19015, 19096, 19121, 19123, 19151, 19235, 19289, 19342, 19348, 19410, 19446, 19492, 19527, 19540, 19594, 19609, 19611, 19627, 19652, 19681, 19711, 19714, 19793, 19827, 19843, 19871, 19883, 19916, 19936, 19955, 19975, 19984, 19988, 19989, 20003, 20024, 20035, 20143, 20263, 20294, 20304, 20311, 20317, 20335, 20405, 20500, 20549, 20636, 20637, 20652, 20663, 20666, 20708, 20713, 20741, 20797, 20802, 20827, 20982, 21005, 21035, 21036, 21064, 21211, 21267, 21364, 21410, 21417, 21488, 21489, 21502, 21533, 21611, 21667, 21679, 21757, 21777, 21809, 21875, 21950, 22018, 22030, 22060, 22061, 22096, 22115, 22234, 22238, 22288, 22343, 22370, 22376, 22431, 22533, 22582, 22593, 22606, 22621, 22649, 22685, 22777, 22810, 22857, 22884, 22898, 22904, 22955, 22997, 23090, 23254, 23272, 23285, 23297, 23380, 23475, 23477, 23523, 23532, 23535, 23593, 23609, 23612, 23628, 23688, 23712, 23768, 23785, 23810, 23841, 23859, 23908, 23944, 23980, 23988, 24030, 24046, 24061, 24082, 24125, 24194, 24231, 24232, 24259, 24368, 24398, 24406, 24426, 24429, 24440, 24441, 24445, 24507, 24522, 24559, 24568, 24621, 24622, 24643, 24673, 24690, 24704, 24709, 24736, 24765, 24837, 24841, 24902, 24921, 24994, 25029, 25048, 25053, 25103, 25108, 25113, 25143, 25162, 25186, 25191, 25195, 25241, 25246, 25256, 25280, 25350, 25371, 25374, 25392, 25491, 25504, 25534, 25535, 25578, 25586, 25604, 25615, 25621, 25625, 25651, 25682, 25702, 25704, 25717, 25745, 25797, 25800, 25801, 25833, 25846, 25873, 25897, 25909, 25926, 25961, 26059, 26063, 26081, 26231, 26245, 26253, 26257, 26263, 26267, 26271, 26423, 26499, 26538, 26621, 26628, 26637, 26667, 26689, 26738, 26776, 26833, 26839, 26871, 26953, 26963, 26995, 27003, 27016, 27037, 27054, 27173, 27194, 27200, 27230, 27234, 27240, 27253, 27337, 27367, 27407, 27414, 27426, 27433, 27445, 27497, 27502, 27509, 27517, 27519, 27525, 27533, 27536, 27582, 27643, 27658, 27671, 27676, 27689, 27743, 27769, 27810, 27878, 27882, 27908, 27924, 27954, 28004, 28009, 28015, 28048, 28058, 28066, 28122, 28133, 28135, 28161, 28162, 28188, 28192, 28196, 28202, 28203, 28204, 28216, 28245, 28278, 28288, 28342, 28358, 28366, 28434, 28438, 28446, 28449, 28455, 28460, 28469, 28474, 28485, 28489, 28502, 28531, 28601, 28622, 28627, 28690, 28707, 28714, 28718, 28754, 28769, 28783, 28818, 28853, 28864, 28881, 28906, 28941, 28944, 28952, 28955, 28977, 29016, 29029, 29056, 29065, 29077, 29140, 29185, 29186, 29269, 29302, 29309, 29326, 29327, 29335, 29359, 29386, 29403, 29478, 29541, 29562, 29567]\n",
            "Cuda is not available.\n",
            "Device is -1\n"
          ]
        },
        {
          "output_type": "stream",
          "name": "stderr",
          "text": [
            "iter 1, The 1-th image: B, clip score 13.713, ctl score -0.049: [CLS] image of our group ran dim. [SEP]\u001b[0m\n",
            "iter 1, The 1-th image: B, clip score 13.713, ctl score -0.049: [CLS] image of our group ran dim. [SEP]\u001b[0m\n",
            "iter 1, The 1-th image: B, clip score 13.713, ctl score -0.049: [CLS] image of our group ran dim. [SEP]\u001b[0m\n",
            "iter 1, The 1-th image: B, clip score 13.713, ctl score -0.049: [CLS] image of our group ran dim. [SEP]\u001b[0m\n",
            "iter 1, The 1-th image: B, clip score 13.713, ctl score -0.049: [CLS] image of our group ran dim. [SEP]\u001b[0m\n",
            "INFO:ConZIC:iter 1, The 1-th image: B, clip score 13.713, ctl score -0.049: [CLS] image of our group ran dim. [SEP]\n",
            "Finished in 25.898s\u001b[0m\n",
            "Finished in 25.898s\u001b[0m\n",
            "Finished in 25.898s\u001b[0m\n",
            "Finished in 25.898s\u001b[0m\n",
            "Finished in 25.898s\u001b[0m\n",
            "INFO:ConZIC:Finished in 25.898s\n",
            "The 1-th image: B\u001b[0m\n",
            "The 1-th image: B\u001b[0m\n",
            "The 1-th image: B\u001b[0m\n",
            "The 1-th image: B\u001b[0m\n",
            "The 1-th image: B\u001b[0m\n",
            "INFO:ConZIC:The 1-th image: B\n",
            "final caption: image of our group ran dim.\u001b[0m\n",
            "final caption: image of our group ran dim.\u001b[0m\n",
            "final caption: image of our group ran dim.\u001b[0m\n",
            "final caption: image of our group ran dim.\u001b[0m\n",
            "final caption: image of our group ran dim.\u001b[0m\n",
            "INFO:ConZIC:final caption: image of our group ran dim.\n",
            "best caption: image of our group ran dim.\u001b[0m\n",
            "best caption: image of our group ran dim.\u001b[0m\n",
            "best caption: image of our group ran dim.\u001b[0m\n",
            "best caption: image of our group ran dim.\u001b[0m\n",
            "best caption: image of our group ran dim.\u001b[0m\n",
            "INFO:ConZIC:best caption: image of our group ran dim.\n",
            "INFO:werkzeug:127.0.0.1 - - [11/Jul/2023 19:03:16] \"GET /processing HTTP/1.1\" 200 -\n"
          ]
        },
        {
          "output_type": "stream",
          "name": "stdout",
          "text": [
            "Best caption:  Sample 1: image of our group ran dim.\n",
            "Final Caption:  Sample 1: image of our group ran dim.\n"
          ]
        },
        {
          "output_type": "stream",
          "name": "stderr",
          "text": [
            "INFO:werkzeug:127.0.0.1 - - [11/Jul/2023 19:03:17] \"GET /static/pictures/BGDA0025.JPG HTTP/1.1\" 200 -\n",
            "INFO:werkzeug:127.0.0.1 - - [11/Jul/2023 19:04:04] \"\u001b[36mGET /static/pictures/BGDA0025.JPG HTTP/1.1\u001b[0m\" 304 -\n"
          ]
        }
      ]
    }
  ],
  "metadata": {
    "colab": {
      "provenance": [],
      "gpuType": "T4"
    },
    "kernelspec": {
      "display_name": "Python 3",
      "name": "python3"
    },
    "language_info": {
      "codemirror_mode": {
        "name": "ipython",
        "version": 3
      },
      "file_extension": ".py",
      "mimetype": "text/x-python",
      "name": "python",
      "nbconvert_exporter": "python",
      "pygments_lexer": "ipython3",
      "version": "3.7.15"
    }
  },
  "nbformat": 4,
  "nbformat_minor": 0
}